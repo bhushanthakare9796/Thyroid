{
 "cells": [
  {
   "cell_type": "code",
   "execution_count": 1,
   "id": "04d5950f",
   "metadata": {},
   "outputs": [],
   "source": [
    "import numpy as np\n",
    "import pandas as pd\n",
    "import matplotlib.pyplot as plt\n",
    "import seaborn as sns\n",
    "%matplotlib inline"
   ]
  },
  {
   "cell_type": "code",
   "execution_count": 2,
   "id": "c7279e16",
   "metadata": {},
   "outputs": [
    {
     "data": {
      "text/html": [
       "<div>\n",
       "<style scoped>\n",
       "    .dataframe tbody tr th:only-of-type {\n",
       "        vertical-align: middle;\n",
       "    }\n",
       "\n",
       "    .dataframe tbody tr th {\n",
       "        vertical-align: top;\n",
       "    }\n",
       "\n",
       "    .dataframe thead th {\n",
       "        text-align: right;\n",
       "    }\n",
       "</style>\n",
       "<table border=\"1\" class=\"dataframe\">\n",
       "  <thead>\n",
       "    <tr style=\"text-align: right;\">\n",
       "      <th></th>\n",
       "      <th>age</th>\n",
       "      <th>sex</th>\n",
       "      <th>on thyroxine</th>\n",
       "      <th>query on thyroxine</th>\n",
       "      <th>on antithyroid medication</th>\n",
       "      <th>sick</th>\n",
       "      <th>pregnant</th>\n",
       "      <th>thyroid surgery</th>\n",
       "      <th>I131 treatment</th>\n",
       "      <th>query hypothyroid</th>\n",
       "      <th>...</th>\n",
       "      <th>TT4 measured</th>\n",
       "      <th>TT4</th>\n",
       "      <th>T4U measured</th>\n",
       "      <th>T4U</th>\n",
       "      <th>FTI measured</th>\n",
       "      <th>FTI</th>\n",
       "      <th>TBG measured</th>\n",
       "      <th>TBG</th>\n",
       "      <th>referral source</th>\n",
       "      <th>binaryClass</th>\n",
       "    </tr>\n",
       "  </thead>\n",
       "  <tbody>\n",
       "    <tr>\n",
       "      <th>2772</th>\n",
       "      <td>25</td>\n",
       "      <td>F</td>\n",
       "      <td>f</td>\n",
       "      <td>f</td>\n",
       "      <td>f</td>\n",
       "      <td>f</td>\n",
       "      <td>f</td>\n",
       "      <td>f</td>\n",
       "      <td>f</td>\n",
       "      <td>f</td>\n",
       "      <td>...</td>\n",
       "      <td>t</td>\n",
       "      <td>21</td>\n",
       "      <td>t</td>\n",
       "      <td>1.1</td>\n",
       "      <td>t</td>\n",
       "      <td>19</td>\n",
       "      <td>f</td>\n",
       "      <td>?</td>\n",
       "      <td>other</td>\n",
       "      <td>N</td>\n",
       "    </tr>\n",
       "    <tr>\n",
       "      <th>2773</th>\n",
       "      <td>84</td>\n",
       "      <td>M</td>\n",
       "      <td>f</td>\n",
       "      <td>f</td>\n",
       "      <td>f</td>\n",
       "      <td>f</td>\n",
       "      <td>f</td>\n",
       "      <td>f</td>\n",
       "      <td>f</td>\n",
       "      <td>f</td>\n",
       "      <td>...</td>\n",
       "      <td>t</td>\n",
       "      <td>82</td>\n",
       "      <td>t</td>\n",
       "      <td>0.74</td>\n",
       "      <td>t</td>\n",
       "      <td>110</td>\n",
       "      <td>f</td>\n",
       "      <td>?</td>\n",
       "      <td>SVI</td>\n",
       "      <td>P</td>\n",
       "    </tr>\n",
       "    <tr>\n",
       "      <th>2774</th>\n",
       "      <td>82</td>\n",
       "      <td>M</td>\n",
       "      <td>f</td>\n",
       "      <td>f</td>\n",
       "      <td>f</td>\n",
       "      <td>f</td>\n",
       "      <td>f</td>\n",
       "      <td>f</td>\n",
       "      <td>f</td>\n",
       "      <td>f</td>\n",
       "      <td>...</td>\n",
       "      <td>t</td>\n",
       "      <td>68</td>\n",
       "      <td>t</td>\n",
       "      <td>0.77</td>\n",
       "      <td>t</td>\n",
       "      <td>88</td>\n",
       "      <td>f</td>\n",
       "      <td>?</td>\n",
       "      <td>SVI</td>\n",
       "      <td>P</td>\n",
       "    </tr>\n",
       "    <tr>\n",
       "      <th>2775</th>\n",
       "      <td>55</td>\n",
       "      <td>M</td>\n",
       "      <td>f</td>\n",
       "      <td>f</td>\n",
       "      <td>f</td>\n",
       "      <td>f</td>\n",
       "      <td>f</td>\n",
       "      <td>f</td>\n",
       "      <td>f</td>\n",
       "      <td>f</td>\n",
       "      <td>...</td>\n",
       "      <td>f</td>\n",
       "      <td>?</td>\n",
       "      <td>f</td>\n",
       "      <td>?</td>\n",
       "      <td>f</td>\n",
       "      <td>?</td>\n",
       "      <td>f</td>\n",
       "      <td>?</td>\n",
       "      <td>other</td>\n",
       "      <td>P</td>\n",
       "    </tr>\n",
       "    <tr>\n",
       "      <th>2776</th>\n",
       "      <td>79</td>\n",
       "      <td>M</td>\n",
       "      <td>f</td>\n",
       "      <td>f</td>\n",
       "      <td>f</td>\n",
       "      <td>f</td>\n",
       "      <td>f</td>\n",
       "      <td>f</td>\n",
       "      <td>f</td>\n",
       "      <td>f</td>\n",
       "      <td>...</td>\n",
       "      <td>t</td>\n",
       "      <td>116</td>\n",
       "      <td>t</td>\n",
       "      <td>0.85</td>\n",
       "      <td>t</td>\n",
       "      <td>137</td>\n",
       "      <td>f</td>\n",
       "      <td>?</td>\n",
       "      <td>SVI</td>\n",
       "      <td>P</td>\n",
       "    </tr>\n",
       "    <tr>\n",
       "      <th>...</th>\n",
       "      <td>...</td>\n",
       "      <td>...</td>\n",
       "      <td>...</td>\n",
       "      <td>...</td>\n",
       "      <td>...</td>\n",
       "      <td>...</td>\n",
       "      <td>...</td>\n",
       "      <td>...</td>\n",
       "      <td>...</td>\n",
       "      <td>...</td>\n",
       "      <td>...</td>\n",
       "      <td>...</td>\n",
       "      <td>...</td>\n",
       "      <td>...</td>\n",
       "      <td>...</td>\n",
       "      <td>...</td>\n",
       "      <td>...</td>\n",
       "      <td>...</td>\n",
       "      <td>...</td>\n",
       "      <td>...</td>\n",
       "      <td>...</td>\n",
       "    </tr>\n",
       "    <tr>\n",
       "      <th>3767</th>\n",
       "      <td>30</td>\n",
       "      <td>F</td>\n",
       "      <td>f</td>\n",
       "      <td>f</td>\n",
       "      <td>f</td>\n",
       "      <td>f</td>\n",
       "      <td>f</td>\n",
       "      <td>f</td>\n",
       "      <td>f</td>\n",
       "      <td>f</td>\n",
       "      <td>...</td>\n",
       "      <td>f</td>\n",
       "      <td>?</td>\n",
       "      <td>f</td>\n",
       "      <td>?</td>\n",
       "      <td>f</td>\n",
       "      <td>?</td>\n",
       "      <td>f</td>\n",
       "      <td>?</td>\n",
       "      <td>other</td>\n",
       "      <td>P</td>\n",
       "    </tr>\n",
       "    <tr>\n",
       "      <th>3768</th>\n",
       "      <td>68</td>\n",
       "      <td>F</td>\n",
       "      <td>f</td>\n",
       "      <td>f</td>\n",
       "      <td>f</td>\n",
       "      <td>f</td>\n",
       "      <td>f</td>\n",
       "      <td>f</td>\n",
       "      <td>f</td>\n",
       "      <td>f</td>\n",
       "      <td>...</td>\n",
       "      <td>t</td>\n",
       "      <td>124</td>\n",
       "      <td>t</td>\n",
       "      <td>1.08</td>\n",
       "      <td>t</td>\n",
       "      <td>114</td>\n",
       "      <td>f</td>\n",
       "      <td>?</td>\n",
       "      <td>SVI</td>\n",
       "      <td>P</td>\n",
       "    </tr>\n",
       "    <tr>\n",
       "      <th>3769</th>\n",
       "      <td>74</td>\n",
       "      <td>F</td>\n",
       "      <td>f</td>\n",
       "      <td>f</td>\n",
       "      <td>f</td>\n",
       "      <td>f</td>\n",
       "      <td>f</td>\n",
       "      <td>f</td>\n",
       "      <td>f</td>\n",
       "      <td>f</td>\n",
       "      <td>...</td>\n",
       "      <td>t</td>\n",
       "      <td>112</td>\n",
       "      <td>t</td>\n",
       "      <td>1.07</td>\n",
       "      <td>t</td>\n",
       "      <td>105</td>\n",
       "      <td>f</td>\n",
       "      <td>?</td>\n",
       "      <td>other</td>\n",
       "      <td>P</td>\n",
       "    </tr>\n",
       "    <tr>\n",
       "      <th>3770</th>\n",
       "      <td>72</td>\n",
       "      <td>M</td>\n",
       "      <td>f</td>\n",
       "      <td>f</td>\n",
       "      <td>f</td>\n",
       "      <td>f</td>\n",
       "      <td>f</td>\n",
       "      <td>f</td>\n",
       "      <td>f</td>\n",
       "      <td>f</td>\n",
       "      <td>...</td>\n",
       "      <td>t</td>\n",
       "      <td>82</td>\n",
       "      <td>t</td>\n",
       "      <td>0.94</td>\n",
       "      <td>t</td>\n",
       "      <td>87</td>\n",
       "      <td>f</td>\n",
       "      <td>?</td>\n",
       "      <td>SVI</td>\n",
       "      <td>P</td>\n",
       "    </tr>\n",
       "    <tr>\n",
       "      <th>3771</th>\n",
       "      <td>64</td>\n",
       "      <td>F</td>\n",
       "      <td>f</td>\n",
       "      <td>f</td>\n",
       "      <td>f</td>\n",
       "      <td>f</td>\n",
       "      <td>f</td>\n",
       "      <td>f</td>\n",
       "      <td>f</td>\n",
       "      <td>f</td>\n",
       "      <td>...</td>\n",
       "      <td>t</td>\n",
       "      <td>99</td>\n",
       "      <td>t</td>\n",
       "      <td>1.07</td>\n",
       "      <td>t</td>\n",
       "      <td>92</td>\n",
       "      <td>f</td>\n",
       "      <td>?</td>\n",
       "      <td>other</td>\n",
       "      <td>P</td>\n",
       "    </tr>\n",
       "  </tbody>\n",
       "</table>\n",
       "<p>1000 rows × 30 columns</p>\n",
       "</div>"
      ],
      "text/plain": [
       "     age sex on thyroxine query on thyroxine on antithyroid medication sick  \\\n",
       "2772  25   F            f                  f                         f    f   \n",
       "2773  84   M            f                  f                         f    f   \n",
       "2774  82   M            f                  f                         f    f   \n",
       "2775  55   M            f                  f                         f    f   \n",
       "2776  79   M            f                  f                         f    f   \n",
       "...   ..  ..          ...                ...                       ...  ...   \n",
       "3767  30   F            f                  f                         f    f   \n",
       "3768  68   F            f                  f                         f    f   \n",
       "3769  74   F            f                  f                         f    f   \n",
       "3770  72   M            f                  f                         f    f   \n",
       "3771  64   F            f                  f                         f    f   \n",
       "\n",
       "     pregnant thyroid surgery I131 treatment query hypothyroid  ...  \\\n",
       "2772        f               f              f                 f  ...   \n",
       "2773        f               f              f                 f  ...   \n",
       "2774        f               f              f                 f  ...   \n",
       "2775        f               f              f                 f  ...   \n",
       "2776        f               f              f                 f  ...   \n",
       "...       ...             ...            ...               ...  ...   \n",
       "3767        f               f              f                 f  ...   \n",
       "3768        f               f              f                 f  ...   \n",
       "3769        f               f              f                 f  ...   \n",
       "3770        f               f              f                 f  ...   \n",
       "3771        f               f              f                 f  ...   \n",
       "\n",
       "     TT4 measured  TT4 T4U measured   T4U FTI measured  FTI TBG measured TBG  \\\n",
       "2772            t   21            t   1.1            t   19            f   ?   \n",
       "2773            t   82            t  0.74            t  110            f   ?   \n",
       "2774            t   68            t  0.77            t   88            f   ?   \n",
       "2775            f    ?            f     ?            f    ?            f   ?   \n",
       "2776            t  116            t  0.85            t  137            f   ?   \n",
       "...           ...  ...          ...   ...          ...  ...          ...  ..   \n",
       "3767            f    ?            f     ?            f    ?            f   ?   \n",
       "3768            t  124            t  1.08            t  114            f   ?   \n",
       "3769            t  112            t  1.07            t  105            f   ?   \n",
       "3770            t   82            t  0.94            t   87            f   ?   \n",
       "3771            t   99            t  1.07            t   92            f   ?   \n",
       "\n",
       "     referral source binaryClass  \n",
       "2772           other           N  \n",
       "2773             SVI           P  \n",
       "2774             SVI           P  \n",
       "2775           other           P  \n",
       "2776             SVI           P  \n",
       "...              ...         ...  \n",
       "3767           other           P  \n",
       "3768             SVI           P  \n",
       "3769           other           P  \n",
       "3770             SVI           P  \n",
       "3771           other           P  \n",
       "\n",
       "[1000 rows x 30 columns]"
      ]
     },
     "execution_count": 2,
     "metadata": {},
     "output_type": "execute_result"
    }
   ],
   "source": [
    "df = pd.read_csv('thyroid.csv')\n",
    "df.tail(1000)"
   ]
  },
  {
   "cell_type": "code",
   "execution_count": 3,
   "id": "503705c0",
   "metadata": {},
   "outputs": [
    {
     "data": {
      "text/html": [
       "<div>\n",
       "<style scoped>\n",
       "    .dataframe tbody tr th:only-of-type {\n",
       "        vertical-align: middle;\n",
       "    }\n",
       "\n",
       "    .dataframe tbody tr th {\n",
       "        vertical-align: top;\n",
       "    }\n",
       "\n",
       "    .dataframe thead th {\n",
       "        text-align: right;\n",
       "    }\n",
       "</style>\n",
       "<table border=\"1\" class=\"dataframe\">\n",
       "  <thead>\n",
       "    <tr style=\"text-align: right;\">\n",
       "      <th></th>\n",
       "      <th>TSH</th>\n",
       "      <th>binaryClass</th>\n",
       "    </tr>\n",
       "  </thead>\n",
       "  <tbody>\n",
       "    <tr>\n",
       "      <th>2772</th>\n",
       "      <td>468</td>\n",
       "      <td>N</td>\n",
       "    </tr>\n",
       "    <tr>\n",
       "      <th>2773</th>\n",
       "      <td>3.6</td>\n",
       "      <td>P</td>\n",
       "    </tr>\n",
       "    <tr>\n",
       "      <th>2774</th>\n",
       "      <td>2.2</td>\n",
       "      <td>P</td>\n",
       "    </tr>\n",
       "    <tr>\n",
       "      <th>2775</th>\n",
       "      <td>?</td>\n",
       "      <td>P</td>\n",
       "    </tr>\n",
       "    <tr>\n",
       "      <th>2776</th>\n",
       "      <td>1.1</td>\n",
       "      <td>P</td>\n",
       "    </tr>\n",
       "    <tr>\n",
       "      <th>...</th>\n",
       "      <td>...</td>\n",
       "      <td>...</td>\n",
       "    </tr>\n",
       "    <tr>\n",
       "      <th>3767</th>\n",
       "      <td>?</td>\n",
       "      <td>P</td>\n",
       "    </tr>\n",
       "    <tr>\n",
       "      <th>3768</th>\n",
       "      <td>1</td>\n",
       "      <td>P</td>\n",
       "    </tr>\n",
       "    <tr>\n",
       "      <th>3769</th>\n",
       "      <td>5.1</td>\n",
       "      <td>P</td>\n",
       "    </tr>\n",
       "    <tr>\n",
       "      <th>3770</th>\n",
       "      <td>0.7</td>\n",
       "      <td>P</td>\n",
       "    </tr>\n",
       "    <tr>\n",
       "      <th>3771</th>\n",
       "      <td>1</td>\n",
       "      <td>P</td>\n",
       "    </tr>\n",
       "  </tbody>\n",
       "</table>\n",
       "<p>1000 rows × 2 columns</p>\n",
       "</div>"
      ],
      "text/plain": [
       "      TSH binaryClass\n",
       "2772  468           N\n",
       "2773  3.6           P\n",
       "2774  2.2           P\n",
       "2775    ?           P\n",
       "2776  1.1           P\n",
       "...   ...         ...\n",
       "3767    ?           P\n",
       "3768    1           P\n",
       "3769  5.1           P\n",
       "3770  0.7           P\n",
       "3771    1           P\n",
       "\n",
       "[1000 rows x 2 columns]"
      ]
     },
     "execution_count": 3,
     "metadata": {},
     "output_type": "execute_result"
    }
   ],
   "source": [
    "df1=df[['TSH','binaryClass']]\n",
    "df1.tail(1000)"
   ]
  },
  {
   "cell_type": "code",
   "execution_count": 4,
   "id": "a72cf5b1",
   "metadata": {},
   "outputs": [
    {
     "data": {
      "text/html": [
       "<div>\n",
       "<style scoped>\n",
       "    .dataframe tbody tr th:only-of-type {\n",
       "        vertical-align: middle;\n",
       "    }\n",
       "\n",
       "    .dataframe tbody tr th {\n",
       "        vertical-align: top;\n",
       "    }\n",
       "\n",
       "    .dataframe thead th {\n",
       "        text-align: right;\n",
       "    }\n",
       "</style>\n",
       "<table border=\"1\" class=\"dataframe\">\n",
       "  <thead>\n",
       "    <tr style=\"text-align: right;\">\n",
       "      <th></th>\n",
       "      <th>age</th>\n",
       "      <th>sex</th>\n",
       "      <th>on thyroxine</th>\n",
       "      <th>query on thyroxine</th>\n",
       "      <th>on antithyroid medication</th>\n",
       "      <th>sick</th>\n",
       "      <th>pregnant</th>\n",
       "      <th>thyroid surgery</th>\n",
       "      <th>I131 treatment</th>\n",
       "      <th>query hypothyroid</th>\n",
       "      <th>...</th>\n",
       "      <th>TT4 measured</th>\n",
       "      <th>TT4</th>\n",
       "      <th>T4U measured</th>\n",
       "      <th>T4U</th>\n",
       "      <th>FTI measured</th>\n",
       "      <th>FTI</th>\n",
       "      <th>TBG measured</th>\n",
       "      <th>TBG</th>\n",
       "      <th>referral source</th>\n",
       "      <th>binaryClass</th>\n",
       "    </tr>\n",
       "  </thead>\n",
       "  <tbody>\n",
       "    <tr>\n",
       "      <th>count</th>\n",
       "      <td>3772</td>\n",
       "      <td>3772</td>\n",
       "      <td>3772</td>\n",
       "      <td>3772</td>\n",
       "      <td>3772</td>\n",
       "      <td>3772</td>\n",
       "      <td>3772</td>\n",
       "      <td>3772</td>\n",
       "      <td>3772</td>\n",
       "      <td>3772</td>\n",
       "      <td>...</td>\n",
       "      <td>3772</td>\n",
       "      <td>3772</td>\n",
       "      <td>3772</td>\n",
       "      <td>3772</td>\n",
       "      <td>3772</td>\n",
       "      <td>3772</td>\n",
       "      <td>3772</td>\n",
       "      <td>3772</td>\n",
       "      <td>3772</td>\n",
       "      <td>3772</td>\n",
       "    </tr>\n",
       "    <tr>\n",
       "      <th>unique</th>\n",
       "      <td>94</td>\n",
       "      <td>3</td>\n",
       "      <td>2</td>\n",
       "      <td>2</td>\n",
       "      <td>2</td>\n",
       "      <td>2</td>\n",
       "      <td>2</td>\n",
       "      <td>2</td>\n",
       "      <td>2</td>\n",
       "      <td>2</td>\n",
       "      <td>...</td>\n",
       "      <td>2</td>\n",
       "      <td>242</td>\n",
       "      <td>2</td>\n",
       "      <td>147</td>\n",
       "      <td>2</td>\n",
       "      <td>235</td>\n",
       "      <td>1</td>\n",
       "      <td>1</td>\n",
       "      <td>5</td>\n",
       "      <td>2</td>\n",
       "    </tr>\n",
       "    <tr>\n",
       "      <th>top</th>\n",
       "      <td>59</td>\n",
       "      <td>F</td>\n",
       "      <td>f</td>\n",
       "      <td>f</td>\n",
       "      <td>f</td>\n",
       "      <td>f</td>\n",
       "      <td>f</td>\n",
       "      <td>f</td>\n",
       "      <td>f</td>\n",
       "      <td>f</td>\n",
       "      <td>...</td>\n",
       "      <td>t</td>\n",
       "      <td>?</td>\n",
       "      <td>t</td>\n",
       "      <td>?</td>\n",
       "      <td>t</td>\n",
       "      <td>?</td>\n",
       "      <td>f</td>\n",
       "      <td>?</td>\n",
       "      <td>other</td>\n",
       "      <td>P</td>\n",
       "    </tr>\n",
       "    <tr>\n",
       "      <th>freq</th>\n",
       "      <td>95</td>\n",
       "      <td>2480</td>\n",
       "      <td>3308</td>\n",
       "      <td>3722</td>\n",
       "      <td>3729</td>\n",
       "      <td>3625</td>\n",
       "      <td>3719</td>\n",
       "      <td>3719</td>\n",
       "      <td>3713</td>\n",
       "      <td>3538</td>\n",
       "      <td>...</td>\n",
       "      <td>3541</td>\n",
       "      <td>231</td>\n",
       "      <td>3385</td>\n",
       "      <td>387</td>\n",
       "      <td>3387</td>\n",
       "      <td>385</td>\n",
       "      <td>3772</td>\n",
       "      <td>3772</td>\n",
       "      <td>2201</td>\n",
       "      <td>3481</td>\n",
       "    </tr>\n",
       "  </tbody>\n",
       "</table>\n",
       "<p>4 rows × 30 columns</p>\n",
       "</div>"
      ],
      "text/plain": [
       "         age   sex on thyroxine query on thyroxine on antithyroid medication  \\\n",
       "count   3772  3772         3772               3772                      3772   \n",
       "unique    94     3            2                  2                         2   \n",
       "top       59     F            f                  f                         f   \n",
       "freq      95  2480         3308               3722                      3729   \n",
       "\n",
       "        sick pregnant thyroid surgery I131 treatment query hypothyroid  ...  \\\n",
       "count   3772     3772            3772           3772              3772  ...   \n",
       "unique     2        2               2              2                 2  ...   \n",
       "top        f        f               f              f                 f  ...   \n",
       "freq    3625     3719            3719           3713              3538  ...   \n",
       "\n",
       "       TT4 measured   TT4 T4U measured   T4U FTI measured   FTI TBG measured  \\\n",
       "count          3772  3772         3772  3772         3772  3772         3772   \n",
       "unique            2   242            2   147            2   235            1   \n",
       "top               t     ?            t     ?            t     ?            f   \n",
       "freq           3541   231         3385   387         3387   385         3772   \n",
       "\n",
       "         TBG referral source binaryClass  \n",
       "count   3772            3772        3772  \n",
       "unique     1               5           2  \n",
       "top        ?           other           P  \n",
       "freq    3772            2201        3481  \n",
       "\n",
       "[4 rows x 30 columns]"
      ]
     },
     "execution_count": 4,
     "metadata": {},
     "output_type": "execute_result"
    }
   ],
   "source": [
    "df.describe()"
   ]
  },
  {
   "cell_type": "code",
   "execution_count": 5,
   "id": "2b48029a",
   "metadata": {},
   "outputs": [
    {
     "name": "stdout",
     "output_type": "stream",
     "text": [
      "<class 'pandas.core.frame.DataFrame'>\n",
      "RangeIndex: 3772 entries, 0 to 3771\n",
      "Data columns (total 30 columns):\n",
      " #   Column                     Non-Null Count  Dtype \n",
      "---  ------                     --------------  ----- \n",
      " 0   age                        3772 non-null   object\n",
      " 1   sex                        3772 non-null   object\n",
      " 2   on thyroxine               3772 non-null   object\n",
      " 3   query on thyroxine         3772 non-null   object\n",
      " 4   on antithyroid medication  3772 non-null   object\n",
      " 5   sick                       3772 non-null   object\n",
      " 6   pregnant                   3772 non-null   object\n",
      " 7   thyroid surgery            3772 non-null   object\n",
      " 8   I131 treatment             3772 non-null   object\n",
      " 9   query hypothyroid          3772 non-null   object\n",
      " 10  query hyperthyroid         3772 non-null   object\n",
      " 11  lithium                    3772 non-null   object\n",
      " 12  goitre                     3772 non-null   object\n",
      " 13  tumor                      3772 non-null   object\n",
      " 14  hypopituitary              3772 non-null   object\n",
      " 15  psych                      3772 non-null   object\n",
      " 16  TSH measured               3772 non-null   object\n",
      " 17  TSH                        3772 non-null   object\n",
      " 18  T3 measured                3772 non-null   object\n",
      " 19  T3                         3772 non-null   object\n",
      " 20  TT4 measured               3772 non-null   object\n",
      " 21  TT4                        3772 non-null   object\n",
      " 22  T4U measured               3772 non-null   object\n",
      " 23  T4U                        3772 non-null   object\n",
      " 24  FTI measured               3772 non-null   object\n",
      " 25  FTI                        3772 non-null   object\n",
      " 26  TBG measured               3772 non-null   object\n",
      " 27  TBG                        3772 non-null   object\n",
      " 28  referral source            3772 non-null   object\n",
      " 29  binaryClass                3772 non-null   object\n",
      "dtypes: object(30)\n",
      "memory usage: 884.2+ KB\n"
     ]
    }
   ],
   "source": [
    "df.info()"
   ]
  },
  {
   "cell_type": "code",
   "execution_count": 6,
   "id": "51e83777",
   "metadata": {},
   "outputs": [
    {
     "data": {
      "text/plain": [
       "<AxesSubplot:xlabel='binaryClass', ylabel='count'>"
      ]
     },
     "execution_count": 6,
     "metadata": {},
     "output_type": "execute_result"
    },
    {
     "data": {
      "image/png": "[encoded data removed]",
      "text/plain": [
       "<Figure size 432x288 with 1 Axes>"
      ]
     },
     "metadata": {
      "needs_background": "light"
     },
     "output_type": "display_data"
    }
   ],
   "source": [
    "sns.countplot(x='binaryClass', data=df, palette='rocket')"
   ]
  },
  {
   "cell_type": "code",
   "execution_count": 7,
   "id": "15523f8c",
   "metadata": {},
   "outputs": [
    {
     "data": {
      "text/plain": [
       "P    3481\n",
       "N     291\n",
       "Name: binaryClass, dtype: int64"
      ]
     },
     "execution_count": 7,
     "metadata": {},
     "output_type": "execute_result"
    }
   ],
   "source": [
    "df['binaryClass'].value_counts()"
   ]
  },
  {
   "cell_type": "code",
   "execution_count": 8,
   "id": "e1ec6372",
   "metadata": {},
   "outputs": [],
   "source": [
    "df['binaryClass'].replace({'P':0,'N':1},inplace=True)"
   ]
  },
  {
   "cell_type": "code",
   "execution_count": 9,
   "id": "d3ce7d79",
   "metadata": {},
   "outputs": [
    {
     "data": {
      "text/plain": [
       "array([0, 1], dtype=int64)"
      ]
     },
     "execution_count": 9,
     "metadata": {},
     "output_type": "execute_result"
    }
   ],
   "source": [
    "df['binaryClass'].unique()"
   ]
  },
  {
   "cell_type": "code",
   "execution_count": 10,
   "id": "4290b767",
   "metadata": {},
   "outputs": [],
   "source": [
    "from sklearn.utils import resample\n",
    "#create two different dataframe of majority and minority class \n",
    "df_majority = df[(df['binaryClass']==0)] \n",
    "df_minority = df[(df['binaryClass']==1)] \n",
    "# upsample minority class\n",
    "df_minority_upsampled = resample(df_minority, \n",
    "                                 replace=True,    # sample with replacement\n",
    "                                 n_samples= 3481, # to match majority class\n",
    "                                 random_state=42)  # reproducible results\n",
    "# Combine majority class with upsampled minority class\n",
    "df = pd.concat([df_minority_upsampled, df_majority])"
   ]
  },
  {
   "cell_type": "code",
   "execution_count": 11,
   "id": "f63280bb",
   "metadata": {},
   "outputs": [
    {
     "data": {
      "text/plain": [
       "1    3481\n",
       "0    3481\n",
       "Name: binaryClass, dtype: int64"
      ]
     },
     "execution_count": 11,
     "metadata": {},
     "output_type": "execute_result"
    }
   ],
   "source": [
    "df['binaryClass'].value_counts()"
   ]
  },
  {
   "cell_type": "code",
   "execution_count": 12,
   "id": "e37d3b28",
   "metadata": {},
   "outputs": [
    {
     "data": {
      "text/plain": [
       "<AxesSubplot:xlabel='binaryClass', ylabel='count'>"
      ]
     },
     "execution_count": 12,
     "metadata": {},
     "output_type": "execute_result"
    },
    {
     "data": {
      "image/png": "[encoded data removed]",
      "text/plain": [
       "<Figure size 432x288 with 1 Axes>"
      ]
     },
     "metadata": {
      "needs_background": "light"
     },
     "output_type": "display_data"
    }
   ],
   "source": [
    "sns.countplot(x='binaryClass', data=df, palette='rocket')"
   ]
  },
  {
   "cell_type": "code",
   "execution_count": 13,
   "id": "b5704bd3",
   "metadata": {},
   "outputs": [],
   "source": [
    "# FIG=df.boxplot(column='TSH')\n",
    "# FIG"
   ]
  },
  {
   "cell_type": "code",
   "execution_count": 14,
   "id": "04a3f841",
   "metadata": {},
   "outputs": [
    {
     "data": {
      "text/html": [
       "<div>\n",
       "<style scoped>\n",
       "    .dataframe tbody tr th:only-of-type {\n",
       "        vertical-align: middle;\n",
       "    }\n",
       "\n",
       "    .dataframe tbody tr th {\n",
       "        vertical-align: top;\n",
       "    }\n",
       "\n",
       "    .dataframe thead th {\n",
       "        text-align: right;\n",
       "    }\n",
       "</style>\n",
       "<table border=\"1\" class=\"dataframe\">\n",
       "  <thead>\n",
       "    <tr style=\"text-align: right;\">\n",
       "      <th></th>\n",
       "      <th>age</th>\n",
       "      <th>sex</th>\n",
       "      <th>on thyroxine</th>\n",
       "      <th>query on thyroxine</th>\n",
       "      <th>on antithyroid medication</th>\n",
       "      <th>sick</th>\n",
       "      <th>pregnant</th>\n",
       "      <th>thyroid surgery</th>\n",
       "      <th>I131 treatment</th>\n",
       "      <th>query hypothyroid</th>\n",
       "      <th>...</th>\n",
       "      <th>TT4 measured</th>\n",
       "      <th>TT4</th>\n",
       "      <th>T4U measured</th>\n",
       "      <th>T4U</th>\n",
       "      <th>FTI measured</th>\n",
       "      <th>FTI</th>\n",
       "      <th>TBG measured</th>\n",
       "      <th>TBG</th>\n",
       "      <th>referral source</th>\n",
       "      <th>binaryClass</th>\n",
       "    </tr>\n",
       "  </thead>\n",
       "  <tbody>\n",
       "    <tr>\n",
       "      <th>3761</th>\n",
       "      <td>38</td>\n",
       "      <td>F</td>\n",
       "      <td>f</td>\n",
       "      <td>f</td>\n",
       "      <td>f</td>\n",
       "      <td>f</td>\n",
       "      <td>f</td>\n",
       "      <td>f</td>\n",
       "      <td>f</td>\n",
       "      <td>f</td>\n",
       "      <td>...</td>\n",
       "      <td>t</td>\n",
       "      <td>96</td>\n",
       "      <td>t</td>\n",
       "      <td>0.98</td>\n",
       "      <td>t</td>\n",
       "      <td>99</td>\n",
       "      <td>f</td>\n",
       "      <td>?</td>\n",
       "      <td>other</td>\n",
       "      <td>0</td>\n",
       "    </tr>\n",
       "    <tr>\n",
       "      <th>3762</th>\n",
       "      <td>61</td>\n",
       "      <td>M</td>\n",
       "      <td>f</td>\n",
       "      <td>f</td>\n",
       "      <td>f</td>\n",
       "      <td>f</td>\n",
       "      <td>f</td>\n",
       "      <td>f</td>\n",
       "      <td>f</td>\n",
       "      <td>f</td>\n",
       "      <td>...</td>\n",
       "      <td>t</td>\n",
       "      <td>72</td>\n",
       "      <td>t</td>\n",
       "      <td>0.7</td>\n",
       "      <td>t</td>\n",
       "      <td>103</td>\n",
       "      <td>f</td>\n",
       "      <td>?</td>\n",
       "      <td>other</td>\n",
       "      <td>0</td>\n",
       "    </tr>\n",
       "    <tr>\n",
       "      <th>3763</th>\n",
       "      <td>41</td>\n",
       "      <td>F</td>\n",
       "      <td>f</td>\n",
       "      <td>f</td>\n",
       "      <td>f</td>\n",
       "      <td>f</td>\n",
       "      <td>f</td>\n",
       "      <td>f</td>\n",
       "      <td>f</td>\n",
       "      <td>f</td>\n",
       "      <td>...</td>\n",
       "      <td>f</td>\n",
       "      <td>?</td>\n",
       "      <td>f</td>\n",
       "      <td>?</td>\n",
       "      <td>f</td>\n",
       "      <td>?</td>\n",
       "      <td>f</td>\n",
       "      <td>?</td>\n",
       "      <td>other</td>\n",
       "      <td>0</td>\n",
       "    </tr>\n",
       "    <tr>\n",
       "      <th>3764</th>\n",
       "      <td>54</td>\n",
       "      <td>M</td>\n",
       "      <td>f</td>\n",
       "      <td>f</td>\n",
       "      <td>f</td>\n",
       "      <td>f</td>\n",
       "      <td>f</td>\n",
       "      <td>f</td>\n",
       "      <td>f</td>\n",
       "      <td>f</td>\n",
       "      <td>...</td>\n",
       "      <td>t</td>\n",
       "      <td>89</td>\n",
       "      <td>t</td>\n",
       "      <td>0.85</td>\n",
       "      <td>t</td>\n",
       "      <td>104</td>\n",
       "      <td>f</td>\n",
       "      <td>?</td>\n",
       "      <td>SVI</td>\n",
       "      <td>0</td>\n",
       "    </tr>\n",
       "    <tr>\n",
       "      <th>3765</th>\n",
       "      <td>73</td>\n",
       "      <td>F</td>\n",
       "      <td>t</td>\n",
       "      <td>f</td>\n",
       "      <td>f</td>\n",
       "      <td>f</td>\n",
       "      <td>f</td>\n",
       "      <td>f</td>\n",
       "      <td>f</td>\n",
       "      <td>f</td>\n",
       "      <td>...</td>\n",
       "      <td>t</td>\n",
       "      <td>104</td>\n",
       "      <td>t</td>\n",
       "      <td>1.13</td>\n",
       "      <td>t</td>\n",
       "      <td>92</td>\n",
       "      <td>f</td>\n",
       "      <td>?</td>\n",
       "      <td>SVI</td>\n",
       "      <td>0</td>\n",
       "    </tr>\n",
       "    <tr>\n",
       "      <th>3767</th>\n",
       "      <td>30</td>\n",
       "      <td>F</td>\n",
       "      <td>f</td>\n",
       "      <td>f</td>\n",
       "      <td>f</td>\n",
       "      <td>f</td>\n",
       "      <td>f</td>\n",
       "      <td>f</td>\n",
       "      <td>f</td>\n",
       "      <td>f</td>\n",
       "      <td>...</td>\n",
       "      <td>f</td>\n",
       "      <td>?</td>\n",
       "      <td>f</td>\n",
       "      <td>?</td>\n",
       "      <td>f</td>\n",
       "      <td>?</td>\n",
       "      <td>f</td>\n",
       "      <td>?</td>\n",
       "      <td>other</td>\n",
       "      <td>0</td>\n",
       "    </tr>\n",
       "    <tr>\n",
       "      <th>3768</th>\n",
       "      <td>68</td>\n",
       "      <td>F</td>\n",
       "      <td>f</td>\n",
       "      <td>f</td>\n",
       "      <td>f</td>\n",
       "      <td>f</td>\n",
       "      <td>f</td>\n",
       "      <td>f</td>\n",
       "      <td>f</td>\n",
       "      <td>f</td>\n",
       "      <td>...</td>\n",
       "      <td>t</td>\n",
       "      <td>124</td>\n",
       "      <td>t</td>\n",
       "      <td>1.08</td>\n",
       "      <td>t</td>\n",
       "      <td>114</td>\n",
       "      <td>f</td>\n",
       "      <td>?</td>\n",
       "      <td>SVI</td>\n",
       "      <td>0</td>\n",
       "    </tr>\n",
       "    <tr>\n",
       "      <th>3769</th>\n",
       "      <td>74</td>\n",
       "      <td>F</td>\n",
       "      <td>f</td>\n",
       "      <td>f</td>\n",
       "      <td>f</td>\n",
       "      <td>f</td>\n",
       "      <td>f</td>\n",
       "      <td>f</td>\n",
       "      <td>f</td>\n",
       "      <td>f</td>\n",
       "      <td>...</td>\n",
       "      <td>t</td>\n",
       "      <td>112</td>\n",
       "      <td>t</td>\n",
       "      <td>1.07</td>\n",
       "      <td>t</td>\n",
       "      <td>105</td>\n",
       "      <td>f</td>\n",
       "      <td>?</td>\n",
       "      <td>other</td>\n",
       "      <td>0</td>\n",
       "    </tr>\n",
       "    <tr>\n",
       "      <th>3770</th>\n",
       "      <td>72</td>\n",
       "      <td>M</td>\n",
       "      <td>f</td>\n",
       "      <td>f</td>\n",
       "      <td>f</td>\n",
       "      <td>f</td>\n",
       "      <td>f</td>\n",
       "      <td>f</td>\n",
       "      <td>f</td>\n",
       "      <td>f</td>\n",
       "      <td>...</td>\n",
       "      <td>t</td>\n",
       "      <td>82</td>\n",
       "      <td>t</td>\n",
       "      <td>0.94</td>\n",
       "      <td>t</td>\n",
       "      <td>87</td>\n",
       "      <td>f</td>\n",
       "      <td>?</td>\n",
       "      <td>SVI</td>\n",
       "      <td>0</td>\n",
       "    </tr>\n",
       "    <tr>\n",
       "      <th>3771</th>\n",
       "      <td>64</td>\n",
       "      <td>F</td>\n",
       "      <td>f</td>\n",
       "      <td>f</td>\n",
       "      <td>f</td>\n",
       "      <td>f</td>\n",
       "      <td>f</td>\n",
       "      <td>f</td>\n",
       "      <td>f</td>\n",
       "      <td>f</td>\n",
       "      <td>...</td>\n",
       "      <td>t</td>\n",
       "      <td>99</td>\n",
       "      <td>t</td>\n",
       "      <td>1.07</td>\n",
       "      <td>t</td>\n",
       "      <td>92</td>\n",
       "      <td>f</td>\n",
       "      <td>?</td>\n",
       "      <td>other</td>\n",
       "      <td>0</td>\n",
       "    </tr>\n",
       "  </tbody>\n",
       "</table>\n",
       "<p>10 rows × 30 columns</p>\n",
       "</div>"
      ],
      "text/plain": [
       "     age sex on thyroxine query on thyroxine on antithyroid medication sick  \\\n",
       "3761  38   F            f                  f                         f    f   \n",
       "3762  61   M            f                  f                         f    f   \n",
       "3763  41   F            f                  f                         f    f   \n",
       "3764  54   M            f                  f                         f    f   \n",
       "3765  73   F            t                  f                         f    f   \n",
       "3767  30   F            f                  f                         f    f   \n",
       "3768  68   F            f                  f                         f    f   \n",
       "3769  74   F            f                  f                         f    f   \n",
       "3770  72   M            f                  f                         f    f   \n",
       "3771  64   F            f                  f                         f    f   \n",
       "\n",
       "     pregnant thyroid surgery I131 treatment query hypothyroid  ...  \\\n",
       "3761        f               f              f                 f  ...   \n",
       "3762        f               f              f                 f  ...   \n",
       "3763        f               f              f                 f  ...   \n",
       "3764        f               f              f                 f  ...   \n",
       "3765        f               f              f                 f  ...   \n",
       "3767        f               f              f                 f  ...   \n",
       "3768        f               f              f                 f  ...   \n",
       "3769        f               f              f                 f  ...   \n",
       "3770        f               f              f                 f  ...   \n",
       "3771        f               f              f                 f  ...   \n",
       "\n",
       "     TT4 measured  TT4 T4U measured   T4U FTI measured  FTI TBG measured TBG  \\\n",
       "3761            t   96            t  0.98            t   99            f   ?   \n",
       "3762            t   72            t   0.7            t  103            f   ?   \n",
       "3763            f    ?            f     ?            f    ?            f   ?   \n",
       "3764            t   89            t  0.85            t  104            f   ?   \n",
       "3765            t  104            t  1.13            t   92            f   ?   \n",
       "3767            f    ?            f     ?            f    ?            f   ?   \n",
       "3768            t  124            t  1.08            t  114            f   ?   \n",
       "3769            t  112            t  1.07            t  105            f   ?   \n",
       "3770            t   82            t  0.94            t   87            f   ?   \n",
       "3771            t   99            t  1.07            t   92            f   ?   \n",
       "\n",
       "     referral source binaryClass  \n",
       "3761           other           0  \n",
       "3762           other           0  \n",
       "3763           other           0  \n",
       "3764             SVI           0  \n",
       "3765             SVI           0  \n",
       "3767           other           0  \n",
       "3768             SVI           0  \n",
       "3769           other           0  \n",
       "3770             SVI           0  \n",
       "3771           other           0  \n",
       "\n",
       "[10 rows x 30 columns]"
      ]
     },
     "execution_count": 14,
     "metadata": {},
     "output_type": "execute_result"
    }
   ],
   "source": [
    "df.tail(10)"
   ]
  },
  {
   "cell_type": "code",
   "execution_count": 15,
   "id": "747e7009",
   "metadata": {},
   "outputs": [
    {
     "data": {
      "text/html": [
       "<div>\n",
       "<style scoped>\n",
       "    .dataframe tbody tr th:only-of-type {\n",
       "        vertical-align: middle;\n",
       "    }\n",
       "\n",
       "    .dataframe tbody tr th {\n",
       "        vertical-align: top;\n",
       "    }\n",
       "\n",
       "    .dataframe thead th {\n",
       "        text-align: right;\n",
       "    }\n",
       "</style>\n",
       "<table border=\"1\" class=\"dataframe\">\n",
       "  <thead>\n",
       "    <tr style=\"text-align: right;\">\n",
       "      <th></th>\n",
       "      <th>TSH</th>\n",
       "      <th>binaryClass</th>\n",
       "    </tr>\n",
       "  </thead>\n",
       "  <tbody>\n",
       "    <tr>\n",
       "      <th>3761</th>\n",
       "      <td>2.8</td>\n",
       "      <td>0</td>\n",
       "    </tr>\n",
       "    <tr>\n",
       "      <th>3762</th>\n",
       "      <td>?</td>\n",
       "      <td>0</td>\n",
       "    </tr>\n",
       "    <tr>\n",
       "      <th>3763</th>\n",
       "      <td>?</td>\n",
       "      <td>0</td>\n",
       "    </tr>\n",
       "    <tr>\n",
       "      <th>3764</th>\n",
       "      <td>1.2</td>\n",
       "      <td>0</td>\n",
       "    </tr>\n",
       "    <tr>\n",
       "      <th>3765</th>\n",
       "      <td>8.5</td>\n",
       "      <td>0</td>\n",
       "    </tr>\n",
       "    <tr>\n",
       "      <th>3767</th>\n",
       "      <td>?</td>\n",
       "      <td>0</td>\n",
       "    </tr>\n",
       "    <tr>\n",
       "      <th>3768</th>\n",
       "      <td>1</td>\n",
       "      <td>0</td>\n",
       "    </tr>\n",
       "    <tr>\n",
       "      <th>3769</th>\n",
       "      <td>5.1</td>\n",
       "      <td>0</td>\n",
       "    </tr>\n",
       "    <tr>\n",
       "      <th>3770</th>\n",
       "      <td>0.7</td>\n",
       "      <td>0</td>\n",
       "    </tr>\n",
       "    <tr>\n",
       "      <th>3771</th>\n",
       "      <td>1</td>\n",
       "      <td>0</td>\n",
       "    </tr>\n",
       "  </tbody>\n",
       "</table>\n",
       "</div>"
      ],
      "text/plain": [
       "      TSH  binaryClass\n",
       "3761  2.8            0\n",
       "3762    ?            0\n",
       "3763    ?            0\n",
       "3764  1.2            0\n",
       "3765  8.5            0\n",
       "3767    ?            0\n",
       "3768    1            0\n",
       "3769  5.1            0\n",
       "3770  0.7            0\n",
       "3771    1            0"
      ]
     },
     "execution_count": 15,
     "metadata": {},
     "output_type": "execute_result"
    }
   ],
   "source": [
    "df1=df[['TSH','binaryClass']]\n",
    "df1.tail(10)"
   ]
  },
  {
   "cell_type": "code",
   "execution_count": 16,
   "id": "6f25466e",
   "metadata": {},
   "outputs": [
    {
     "name": "stdout",
     "output_type": "stream",
     "text": [
      "<class 'pandas.core.frame.DataFrame'>\n",
      "Int64Index: 6962 entries, 1181 to 3771\n",
      "Data columns (total 30 columns):\n",
      " #   Column                     Non-Null Count  Dtype \n",
      "---  ------                     --------------  ----- \n",
      " 0   age                        6962 non-null   object\n",
      " 1   sex                        6962 non-null   object\n",
      " 2   on thyroxine               6962 non-null   object\n",
      " 3   query on thyroxine         6962 non-null   object\n",
      " 4   on antithyroid medication  6962 non-null   object\n",
      " 5   sick                       6962 non-null   object\n",
      " 6   pregnant                   6962 non-null   object\n",
      " 7   thyroid surgery            6962 non-null   object\n",
      " 8   I131 treatment             6962 non-null   object\n",
      " 9   query hypothyroid          6962 non-null   object\n",
      " 10  query hyperthyroid         6962 non-null   object\n",
      " 11  lithium                    6962 non-null   object\n",
      " 12  goitre                     6962 non-null   object\n",
      " 13  tumor                      6962 non-null   object\n",
      " 14  hypopituitary              6962 non-null   object\n",
      " 15  psych                      6962 non-null   object\n",
      " 16  TSH measured               6962 non-null   object\n",
      " 17  TSH                        6962 non-null   object\n",
      " 18  T3 measured                6962 non-null   object\n",
      " 19  T3                         6962 non-null   object\n",
      " 20  TT4 measured               6962 non-null   object\n",
      " 21  TT4                        6962 non-null   object\n",
      " 22  T4U measured               6962 non-null   object\n",
      " 23  T4U                        6962 non-null   object\n",
      " 24  FTI measured               6962 non-null   object\n",
      " 25  FTI                        6962 non-null   object\n",
      " 26  TBG measured               6962 non-null   object\n",
      " 27  TBG                        6962 non-null   object\n",
      " 28  referral source            6962 non-null   object\n",
      " 29  binaryClass                6962 non-null   int64 \n",
      "dtypes: int64(1), object(29)\n",
      "memory usage: 1.6+ MB\n"
     ]
    }
   ],
   "source": [
    "df.info()"
   ]
  },
  {
   "cell_type": "code",
   "execution_count": null,
   "id": "f8e0569a",
   "metadata": {},
   "outputs": [],
   "source": []
  },
  {
   "cell_type": "code",
   "execution_count": 17,
   "id": "9f6612e2",
   "metadata": {},
   "outputs": [
    {
     "data": {
      "text/plain": [
       "1181    6.8\n",
       "3535    109\n",
       "1244     60\n",
       "800      55\n",
       "2255     12\n",
       "       ... \n",
       "3767      ?\n",
       "3768      1\n",
       "3769    5.1\n",
       "3770    0.7\n",
       "3771      1\n",
       "Name: TSH, Length: 6962, dtype: object"
      ]
     },
     "execution_count": 17,
     "metadata": {},
     "output_type": "execute_result"
    }
   ],
   "source": [
    "df['TSH']"
   ]
  },
  {
   "cell_type": "code",
   "execution_count": 18,
   "id": "9bc03381",
   "metadata": {},
   "outputs": [],
   "source": [
    "df['age']=pd.to_numeric(df['age'], errors='coerce')\n",
    "meana=df['age'].mean()\n",
    "df['age'].fillna(meana,inplace=True)\n"
   ]
  },
  {
   "cell_type": "code",
   "execution_count": 19,
   "id": "325ef59a",
   "metadata": {},
   "outputs": [
    {
     "data": {
      "text/plain": [
       "60.000000     279\n",
       "62.000000     219\n",
       "68.000000     210\n",
       "63.000000     204\n",
       "50.000000     169\n",
       "             ... \n",
       "4.000000        1\n",
       "5.000000        1\n",
       "455.000000      1\n",
       "6.000000        1\n",
       "51.870565       1\n",
       "Name: age, Length: 94, dtype: int64"
      ]
     },
     "execution_count": 19,
     "metadata": {},
     "output_type": "execute_result"
    }
   ],
   "source": [
    "df['age'].value_counts()"
   ]
  },
  {
   "cell_type": "code",
   "execution_count": 20,
   "id": "fcba5dae",
   "metadata": {},
   "outputs": [
    {
     "data": {
      "text/plain": [
       "numpy.float64"
      ]
     },
     "execution_count": 20,
     "metadata": {},
     "output_type": "execute_result"
    }
   ],
   "source": [
    "type(df['age'][0])"
   ]
  },
  {
   "cell_type": "code",
   "execution_count": 21,
   "id": "766bade2",
   "metadata": {},
   "outputs": [],
   "source": [
    "df['TSH']=pd.to_numeric(df['TSH'], errors='coerce')"
   ]
  },
  {
   "cell_type": "code",
   "execution_count": 22,
   "id": "8aa82c60",
   "metadata": {},
   "outputs": [
    {
     "data": {
      "text/plain": [
       "numpy.float64"
      ]
     },
     "execution_count": 22,
     "metadata": {},
     "output_type": "execute_result"
    }
   ],
   "source": [
    "type(df['TSH'][0])\n"
   ]
  },
  {
   "cell_type": "code",
   "execution_count": 23,
   "id": "398e51f8",
   "metadata": {},
   "outputs": [
    {
     "data": {
      "text/plain": [
       "22.35495677233436"
      ]
     },
     "execution_count": 23,
     "metadata": {},
     "output_type": "execute_result"
    }
   ],
   "source": [
    "mean=df['TSH'].mean()\n",
    "mean"
   ]
  },
  {
   "cell_type": "code",
   "execution_count": 24,
   "id": "676dbb45",
   "metadata": {},
   "outputs": [],
   "source": [
    "df['TSH'].fillna(mean,inplace=True)"
   ]
  },
  {
   "cell_type": "code",
   "execution_count": 25,
   "id": "b2c24729",
   "metadata": {},
   "outputs": [
    {
     "data": {
      "text/plain": [
       "numpy.float64"
      ]
     },
     "execution_count": 25,
     "metadata": {},
     "output_type": "execute_result"
    }
   ],
   "source": [
    "type(df['TSH'][0])"
   ]
  },
  {
   "cell_type": "code",
   "execution_count": 26,
   "id": "55fae1a6",
   "metadata": {},
   "outputs": [
    {
     "data": {
      "text/plain": [
       "F    4846\n",
       "M    1868\n",
       "?     248\n",
       "Name: sex, dtype: int64"
      ]
     },
     "execution_count": 26,
     "metadata": {},
     "output_type": "execute_result"
    }
   ],
   "source": [
    "df['sex'].value_counts()"
   ]
  },
  {
   "cell_type": "code",
   "execution_count": 27,
   "id": "67a58d69",
   "metadata": {},
   "outputs": [],
   "source": [
    "df['sex'].replace('?',\"F\",inplace=True)\n"
   ]
  },
  {
   "cell_type": "code",
   "execution_count": 28,
   "id": "2fd8e402",
   "metadata": {},
   "outputs": [
    {
     "data": {
      "text/plain": [
       "F    5094\n",
       "M    1868\n",
       "Name: sex, dtype: int64"
      ]
     },
     "execution_count": 28,
     "metadata": {},
     "output_type": "execute_result"
    }
   ],
   "source": [
    "df['sex'].value_counts()"
   ]
  },
  {
   "cell_type": "code",
   "execution_count": 29,
   "id": "98cc1c4e",
   "metadata": {},
   "outputs": [],
   "source": [
    "df['sex'].replace({'F':0,'M':1},inplace=True)"
   ]
  },
  {
   "cell_type": "code",
   "execution_count": 30,
   "id": "8baffffe",
   "metadata": {},
   "outputs": [
    {
     "data": {
      "text/plain": [
       "numpy.int64"
      ]
     },
     "execution_count": 30,
     "metadata": {},
     "output_type": "execute_result"
    }
   ],
   "source": [
    "df['sex']=pd.to_numeric(df['sex'], errors='coerce')\n",
    "type(df['sex'][0])"
   ]
  },
  {
   "cell_type": "code",
   "execution_count": 31,
   "id": "42e993cb",
   "metadata": {},
   "outputs": [
    {
     "data": {
      "text/plain": [
       "array([0, 1], dtype=int64)"
      ]
     },
     "execution_count": 31,
     "metadata": {},
     "output_type": "execute_result"
    }
   ],
   "source": [
    "df['sex'].unique()"
   ]
  },
  {
   "cell_type": "code",
   "execution_count": 32,
   "id": "b4c744b7",
   "metadata": {},
   "outputs": [
    {
     "data": {
      "text/plain": [
       "<AxesSubplot:xlabel='sex', ylabel='count'>"
      ]
     },
     "execution_count": 32,
     "metadata": {},
     "output_type": "execute_result"
    },
    {
     "data": {
      "image/png": "[encoded data removed]",
      "text/plain": [
       "<Figure size 432x288 with 1 Axes>"
      ]
     },
     "metadata": {
      "needs_background": "light"
     },
     "output_type": "display_data"
    }
   ],
   "source": [
    "sns.countplot(x='sex', data=df, palette='rocket')"
   ]
  },
  {
   "cell_type": "code",
   "execution_count": 33,
   "id": "d55785f1",
   "metadata": {},
   "outputs": [
    {
     "data": {
      "text/plain": [
       "array(['f', 't'], dtype=object)"
      ]
     },
     "execution_count": 33,
     "metadata": {},
     "output_type": "execute_result"
    }
   ],
   "source": [
    "df['on thyroxine'].unique()"
   ]
  },
  {
   "cell_type": "code",
   "execution_count": 34,
   "id": "18b89dec",
   "metadata": {},
   "outputs": [],
   "source": [
    "df['on thyroxine'].replace({'f':0,'t':1},inplace=True)"
   ]
  },
  {
   "cell_type": "code",
   "execution_count": 35,
   "id": "51cea00d",
   "metadata": {},
   "outputs": [
    {
     "data": {
      "text/plain": [
       "numpy.int64"
      ]
     },
     "execution_count": 35,
     "metadata": {},
     "output_type": "execute_result"
    }
   ],
   "source": [
    "df['on thyroxine']=pd.to_numeric(df['on thyroxine'], errors='coerce')\n",
    "type(df['on thyroxine'][0])"
   ]
  },
  {
   "cell_type": "code",
   "execution_count": null,
   "id": "3045f9d0",
   "metadata": {},
   "outputs": [],
   "source": []
  },
  {
   "cell_type": "code",
   "execution_count": 36,
   "id": "1b1a2eb6",
   "metadata": {},
   "outputs": [
    {
     "data": {
      "text/plain": [
       "array(['f', 't'], dtype=object)"
      ]
     },
     "execution_count": 36,
     "metadata": {},
     "output_type": "execute_result"
    }
   ],
   "source": [
    "df['query on thyroxine'].unique()"
   ]
  },
  {
   "cell_type": "code",
   "execution_count": 37,
   "id": "9d865054",
   "metadata": {},
   "outputs": [
    {
     "data": {
      "text/plain": [
       "array([0, 1], dtype=int64)"
      ]
     },
     "execution_count": 37,
     "metadata": {},
     "output_type": "execute_result"
    }
   ],
   "source": [
    "df['query on thyroxine'].replace({'f':0,'t':1},inplace=True)\n",
    "df['query on thyroxine'].unique()\n"
   ]
  },
  {
   "cell_type": "code",
   "execution_count": 38,
   "id": "a1854fce",
   "metadata": {},
   "outputs": [
    {
     "data": {
      "text/plain": [
       "numpy.int64"
      ]
     },
     "execution_count": 38,
     "metadata": {},
     "output_type": "execute_result"
    }
   ],
   "source": [
    "df['query on thyroxine']=pd.to_numeric(df['query on thyroxine'], errors='coerce')\n",
    "type(df['query on thyroxine'][0])"
   ]
  },
  {
   "cell_type": "code",
   "execution_count": 39,
   "id": "949869ce",
   "metadata": {},
   "outputs": [
    {
     "data": {
      "text/plain": [
       "array(['f', 't'], dtype=object)"
      ]
     },
     "execution_count": 39,
     "metadata": {},
     "output_type": "execute_result"
    }
   ],
   "source": [
    "df['on antithyroid medication'].unique()"
   ]
  },
  {
   "cell_type": "code",
   "execution_count": 40,
   "id": "e46b1261",
   "metadata": {},
   "outputs": [],
   "source": [
    "df['on antithyroid medication'].replace({'f':0,'t':1},inplace=True)"
   ]
  },
  {
   "cell_type": "code",
   "execution_count": 41,
   "id": "ce1eda3e",
   "metadata": {},
   "outputs": [
    {
     "data": {
      "text/plain": [
       "numpy.int64"
      ]
     },
     "execution_count": 41,
     "metadata": {},
     "output_type": "execute_result"
    }
   ],
   "source": [
    "df['on antithyroid medication']=pd.to_numeric(df['on antithyroid medication'], errors='coerce')\n",
    "type(df['on antithyroid medication'][0])"
   ]
  },
  {
   "cell_type": "code",
   "execution_count": 42,
   "id": "3d3f9f32",
   "metadata": {},
   "outputs": [
    {
     "data": {
      "text/plain": [
       "array(['f', 't'], dtype=object)"
      ]
     },
     "execution_count": 42,
     "metadata": {},
     "output_type": "execute_result"
    }
   ],
   "source": [
    "df['sick'].unique()"
   ]
  },
  {
   "cell_type": "code",
   "execution_count": 43,
   "id": "2a62a14c",
   "metadata": {},
   "outputs": [],
   "source": [
    "df['sick'].replace({'f':0,'t':1},inplace=True)"
   ]
  },
  {
   "cell_type": "code",
   "execution_count": 44,
   "id": "56b77f7b",
   "metadata": {},
   "outputs": [
    {
     "data": {
      "text/plain": [
       "numpy.int64"
      ]
     },
     "execution_count": 44,
     "metadata": {},
     "output_type": "execute_result"
    }
   ],
   "source": [
    "df['sick']=pd.to_numeric(df['sick'], errors='coerce')\n",
    "type(df['sick'][0])"
   ]
  },
  {
   "cell_type": "code",
   "execution_count": 45,
   "id": "72b57470",
   "metadata": {},
   "outputs": [
    {
     "data": {
      "text/plain": [
       "numpy.int64"
      ]
     },
     "execution_count": 45,
     "metadata": {},
     "output_type": "execute_result"
    }
   ],
   "source": [
    "type(df['sick'][0])"
   ]
  },
  {
   "cell_type": "code",
   "execution_count": 46,
   "id": "d7751429",
   "metadata": {},
   "outputs": [
    {
     "data": {
      "text/plain": [
       "array(['f', 't'], dtype=object)"
      ]
     },
     "execution_count": 46,
     "metadata": {},
     "output_type": "execute_result"
    }
   ],
   "source": [
    "df['pregnant'].unique()"
   ]
  },
  {
   "cell_type": "code",
   "execution_count": 47,
   "id": "2b33e552",
   "metadata": {},
   "outputs": [],
   "source": [
    "df['pregnant'].replace({'f':0,'t':1},inplace=True)"
   ]
  },
  {
   "cell_type": "code",
   "execution_count": 48,
   "id": "c9132217",
   "metadata": {},
   "outputs": [
    {
     "data": {
      "text/plain": [
       "numpy.int64"
      ]
     },
     "execution_count": 48,
     "metadata": {},
     "output_type": "execute_result"
    }
   ],
   "source": [
    "df['pregnant']=pd.to_numeric(df['pregnant'], errors='coerce')\n",
    "type(df['pregnant'][0])"
   ]
  },
  {
   "cell_type": "code",
   "execution_count": 49,
   "id": "ca64a52c",
   "metadata": {},
   "outputs": [
    {
     "data": {
      "text/plain": [
       "array(['f', 't'], dtype=object)"
      ]
     },
     "execution_count": 49,
     "metadata": {},
     "output_type": "execute_result"
    }
   ],
   "source": [
    "df['thyroid surgery'].unique()"
   ]
  },
  {
   "cell_type": "code",
   "execution_count": 50,
   "id": "b523c86e",
   "metadata": {},
   "outputs": [],
   "source": [
    "df['thyroid surgery'].replace({'f':0,'t':1},inplace=True)"
   ]
  },
  {
   "cell_type": "code",
   "execution_count": 51,
   "id": "0c149012",
   "metadata": {},
   "outputs": [
    {
     "data": {
      "text/plain": [
       "numpy.int64"
      ]
     },
     "execution_count": 51,
     "metadata": {},
     "output_type": "execute_result"
    }
   ],
   "source": [
    "df['thyroid surgery']=pd.to_numeric(df['thyroid surgery'], errors='coerce')\n",
    "type(df['thyroid surgery'][0])"
   ]
  },
  {
   "cell_type": "code",
   "execution_count": 52,
   "id": "d6706a1d",
   "metadata": {},
   "outputs": [
    {
     "data": {
      "text/plain": [
       "array(['f', 't'], dtype=object)"
      ]
     },
     "execution_count": 52,
     "metadata": {},
     "output_type": "execute_result"
    }
   ],
   "source": [
    "df['I131 treatment'].unique()"
   ]
  },
  {
   "cell_type": "code",
   "execution_count": 53,
   "id": "efa3fbd0",
   "metadata": {},
   "outputs": [],
   "source": [
    "df['I131 treatment'].replace({'f':0,'t':1},inplace=True)"
   ]
  },
  {
   "cell_type": "code",
   "execution_count": 54,
   "id": "8771505a",
   "metadata": {},
   "outputs": [
    {
     "data": {
      "text/plain": [
       "numpy.int64"
      ]
     },
     "execution_count": 54,
     "metadata": {},
     "output_type": "execute_result"
    }
   ],
   "source": [
    "df['I131 treatment']=pd.to_numeric(df['I131 treatment'], errors='coerce')\n",
    "type(df['I131 treatment'][0])"
   ]
  },
  {
   "cell_type": "code",
   "execution_count": 55,
   "id": "7af5361f",
   "metadata": {},
   "outputs": [
    {
     "data": {
      "text/plain": [
       "array(['f', 't'], dtype=object)"
      ]
     },
     "execution_count": 55,
     "metadata": {},
     "output_type": "execute_result"
    }
   ],
   "source": [
    "df['query hypothyroid'].unique()"
   ]
  },
  {
   "cell_type": "code",
   "execution_count": 56,
   "id": "e5d23715",
   "metadata": {},
   "outputs": [],
   "source": [
    "df['query hypothyroid'].replace({'f':0,'t':1},inplace=True)"
   ]
  },
  {
   "cell_type": "code",
   "execution_count": 57,
   "id": "60355455",
   "metadata": {},
   "outputs": [
    {
     "data": {
      "text/plain": [
       "numpy.int64"
      ]
     },
     "execution_count": 57,
     "metadata": {},
     "output_type": "execute_result"
    }
   ],
   "source": [
    "df['query hypothyroid']=pd.to_numeric(df['query hypothyroid'], errors='coerce')\n",
    "type(df['query hypothyroid'][0])"
   ]
  },
  {
   "cell_type": "code",
   "execution_count": 58,
   "id": "3b266773",
   "metadata": {},
   "outputs": [
    {
     "data": {
      "text/plain": [
       "array(['f', 't'], dtype=object)"
      ]
     },
     "execution_count": 58,
     "metadata": {},
     "output_type": "execute_result"
    }
   ],
   "source": [
    "df['query hyperthyroid'].unique()"
   ]
  },
  {
   "cell_type": "code",
   "execution_count": 59,
   "id": "c7bec29d",
   "metadata": {},
   "outputs": [],
   "source": [
    "df['query hyperthyroid'].replace({'f':0,'t':1},inplace=True)"
   ]
  },
  {
   "cell_type": "code",
   "execution_count": 60,
   "id": "9ec07a6d",
   "metadata": {},
   "outputs": [
    {
     "data": {
      "text/plain": [
       "numpy.int64"
      ]
     },
     "execution_count": 60,
     "metadata": {},
     "output_type": "execute_result"
    }
   ],
   "source": [
    "df['query hyperthyroid']=pd.to_numeric(df['query hyperthyroid'], errors='coerce')\n",
    "type(df['query hyperthyroid'][0])"
   ]
  },
  {
   "cell_type": "code",
   "execution_count": 61,
   "id": "a53c827b",
   "metadata": {},
   "outputs": [
    {
     "data": {
      "text/plain": [
       "array(['f', 't'], dtype=object)"
      ]
     },
     "execution_count": 61,
     "metadata": {},
     "output_type": "execute_result"
    }
   ],
   "source": [
    "df['lithium'].unique()"
   ]
  },
  {
   "cell_type": "code",
   "execution_count": 62,
   "id": "d7afbc3d",
   "metadata": {},
   "outputs": [],
   "source": [
    "df['lithium'].replace({'f':0,'t':1},inplace=True)"
   ]
  },
  {
   "cell_type": "code",
   "execution_count": 63,
   "id": "5e0c7957",
   "metadata": {},
   "outputs": [
    {
     "data": {
      "text/plain": [
       "numpy.int64"
      ]
     },
     "execution_count": 63,
     "metadata": {},
     "output_type": "execute_result"
    }
   ],
   "source": [
    "df['lithium']=pd.to_numeric(df['lithium'], errors='coerce')\n",
    "type(df['lithium'][0])"
   ]
  },
  {
   "cell_type": "code",
   "execution_count": 64,
   "id": "91072b9e",
   "metadata": {},
   "outputs": [
    {
     "data": {
      "text/plain": [
       "array(['f', 't'], dtype=object)"
      ]
     },
     "execution_count": 64,
     "metadata": {},
     "output_type": "execute_result"
    }
   ],
   "source": [
    "df['goitre'].unique()"
   ]
  },
  {
   "cell_type": "code",
   "execution_count": 65,
   "id": "38d9926f",
   "metadata": {},
   "outputs": [],
   "source": [
    "df['goitre'].replace({'f':0,'t':1},inplace=True)"
   ]
  },
  {
   "cell_type": "code",
   "execution_count": 66,
   "id": "3ac46f75",
   "metadata": {},
   "outputs": [
    {
     "data": {
      "text/plain": [
       "numpy.int64"
      ]
     },
     "execution_count": 66,
     "metadata": {},
     "output_type": "execute_result"
    }
   ],
   "source": [
    "df['goitre']=pd.to_numeric(df['goitre'], errors='coerce')\n",
    "type(df['goitre'][0])"
   ]
  },
  {
   "cell_type": "code",
   "execution_count": 67,
   "id": "89e37804",
   "metadata": {},
   "outputs": [
    {
     "data": {
      "text/plain": [
       "array(['f', 't'], dtype=object)"
      ]
     },
     "execution_count": 67,
     "metadata": {},
     "output_type": "execute_result"
    }
   ],
   "source": [
    "df['tumor'].unique()"
   ]
  },
  {
   "cell_type": "code",
   "execution_count": 68,
   "id": "a85ef59a",
   "metadata": {},
   "outputs": [],
   "source": [
    "df['tumor'].replace({'f':0,'t':1},inplace=True)"
   ]
  },
  {
   "cell_type": "code",
   "execution_count": 69,
   "id": "dfd63fc2",
   "metadata": {},
   "outputs": [
    {
     "data": {
      "text/plain": [
       "numpy.int64"
      ]
     },
     "execution_count": 69,
     "metadata": {},
     "output_type": "execute_result"
    }
   ],
   "source": [
    "df['tumor']=pd.to_numeric(df['tumor'], errors='coerce')\n",
    "type(df['tumor'][0])"
   ]
  },
  {
   "cell_type": "code",
   "execution_count": 70,
   "id": "dccb0480",
   "metadata": {},
   "outputs": [
    {
     "data": {
      "text/plain": [
       "array(['f', 't'], dtype=object)"
      ]
     },
     "execution_count": 70,
     "metadata": {},
     "output_type": "execute_result"
    }
   ],
   "source": [
    "df['hypopituitary'].unique()"
   ]
  },
  {
   "cell_type": "code",
   "execution_count": 71,
   "id": "d3fb6515",
   "metadata": {},
   "outputs": [],
   "source": [
    "df['hypopituitary'].replace({'f':0,'t':1},inplace=True)"
   ]
  },
  {
   "cell_type": "code",
   "execution_count": 72,
   "id": "2ff79b01",
   "metadata": {},
   "outputs": [
    {
     "data": {
      "text/plain": [
       "numpy.int64"
      ]
     },
     "execution_count": 72,
     "metadata": {},
     "output_type": "execute_result"
    }
   ],
   "source": [
    "df['hypopituitary']=pd.to_numeric(df['hypopituitary'], errors='coerce')\n",
    "type(df['hypopituitary'][0])"
   ]
  },
  {
   "cell_type": "code",
   "execution_count": 73,
   "id": "130beca7",
   "metadata": {},
   "outputs": [
    {
     "data": {
      "text/plain": [
       "array(['f', 't'], dtype=object)"
      ]
     },
     "execution_count": 73,
     "metadata": {},
     "output_type": "execute_result"
    }
   ],
   "source": [
    "df['psych'].unique()"
   ]
  },
  {
   "cell_type": "code",
   "execution_count": 74,
   "id": "d2c3deff",
   "metadata": {},
   "outputs": [],
   "source": [
    "df['psych'].replace({'f':0,'t':1},inplace=True)"
   ]
  },
  {
   "cell_type": "code",
   "execution_count": 75,
   "id": "9e9b04a1",
   "metadata": {},
   "outputs": [
    {
     "data": {
      "text/plain": [
       "numpy.int64"
      ]
     },
     "execution_count": 75,
     "metadata": {},
     "output_type": "execute_result"
    }
   ],
   "source": [
    "df['psych']=pd.to_numeric(df['psych'], errors='coerce')\n",
    "type(df['psych'][0])"
   ]
  },
  {
   "cell_type": "code",
   "execution_count": 76,
   "id": "b24c2aa1",
   "metadata": {},
   "outputs": [
    {
     "data": {
      "text/plain": [
       "array(['t', 'f'], dtype=object)"
      ]
     },
     "execution_count": 76,
     "metadata": {},
     "output_type": "execute_result"
    }
   ],
   "source": [
    "df['TSH measured'].unique()"
   ]
  },
  {
   "cell_type": "code",
   "execution_count": 77,
   "id": "21749bf5",
   "metadata": {},
   "outputs": [],
   "source": [
    "df['TSH measured'].replace({'f':0,'t':1},inplace=True)"
   ]
  },
  {
   "cell_type": "code",
   "execution_count": 78,
   "id": "8ab94f53",
   "metadata": {},
   "outputs": [
    {
     "data": {
      "text/plain": [
       "numpy.int64"
      ]
     },
     "execution_count": 78,
     "metadata": {},
     "output_type": "execute_result"
    }
   ],
   "source": [
    "df['TSH measured']=pd.to_numeric(df['TSH measured'], errors='coerce')\n",
    "type(df['TSH measured'][0])"
   ]
  },
  {
   "cell_type": "code",
   "execution_count": 79,
   "id": "a53a6aec",
   "metadata": {},
   "outputs": [
    {
     "data": {
      "text/plain": [
       "array(['f', 't'], dtype=object)"
      ]
     },
     "execution_count": 79,
     "metadata": {},
     "output_type": "execute_result"
    }
   ],
   "source": [
    "df['T3 measured'].unique()"
   ]
  },
  {
   "cell_type": "code",
   "execution_count": 80,
   "id": "19434304",
   "metadata": {},
   "outputs": [],
   "source": [
    "df['T3 measured'].replace({'f':0,'t':1},inplace=True)\n"
   ]
  },
  {
   "cell_type": "code",
   "execution_count": 81,
   "id": "1e79076b",
   "metadata": {},
   "outputs": [
    {
     "data": {
      "text/plain": [
       "numpy.int64"
      ]
     },
     "execution_count": 81,
     "metadata": {},
     "output_type": "execute_result"
    }
   ],
   "source": [
    "df['T3 measured']=pd.to_numeric(df['T3 measured'], errors='coerce')\n",
    "type(df['T3 measured'][0])"
   ]
  },
  {
   "cell_type": "code",
   "execution_count": 82,
   "id": "c002ec91",
   "metadata": {},
   "outputs": [
    {
     "data": {
      "text/plain": [
       "1181      ?\n",
       "3535    0.2\n",
       "1244    0.7\n",
       "800     0.7\n",
       "2255    1.8\n",
       "       ... \n",
       "3767      ?\n",
       "3768    2.1\n",
       "3769    1.8\n",
       "3770      2\n",
       "3771    2.2\n",
       "Name: T3, Length: 6962, dtype: object"
      ]
     },
     "execution_count": 82,
     "metadata": {},
     "output_type": "execute_result"
    }
   ],
   "source": [
    "df['T3']"
   ]
  },
  {
   "cell_type": "code",
   "execution_count": 83,
   "id": "9253ec20",
   "metadata": {},
   "outputs": [],
   "source": [
    "df['T3']=pd.to_numeric(df['T3'], errors='coerce')"
   ]
  },
  {
   "cell_type": "code",
   "execution_count": 84,
   "id": "ded050df",
   "metadata": {},
   "outputs": [
    {
     "data": {
      "text/plain": [
       "numpy.float64"
      ]
     },
     "execution_count": 84,
     "metadata": {},
     "output_type": "execute_result"
    }
   ],
   "source": [
    "type(df['T3'][0])"
   ]
  },
  {
   "cell_type": "code",
   "execution_count": 85,
   "id": "d02e15b4",
   "metadata": {},
   "outputs": [
    {
     "data": {
      "text/plain": [
       "1.7563185654008386"
      ]
     },
     "execution_count": 85,
     "metadata": {},
     "output_type": "execute_result"
    }
   ],
   "source": [
    "meant3=df['T3'].mean()\n",
    "meant3"
   ]
  },
  {
   "cell_type": "code",
   "execution_count": 86,
   "id": "12a26305",
   "metadata": {},
   "outputs": [],
   "source": [
    "df['T3'].fillna(meant3,inplace=True)"
   ]
  },
  {
   "cell_type": "code",
   "execution_count": 87,
   "id": "5f060f9b",
   "metadata": {},
   "outputs": [
    {
     "data": {
      "text/plain": [
       "array([ 1.75631857,  0.2       ,  0.7       ,  1.8       ,  1.2       ,\n",
       "        0.8       ,  2.1       ,  0.5       ,  1.3       ,  2.3       ,\n",
       "        1.5       ,  3.5       ,  0.4       ,  1.9       ,  1.7       ,\n",
       "        0.9       ,  2.5       ,  1.6       ,  2.2       ,  1.4       ,\n",
       "        2.        ,  0.6       ,  1.        ,  2.6       ,  1.1       ,\n",
       "        2.4       ,  2.9       ,  0.3       ,  3.1       ,  3.7       ,\n",
       "        3.9       ,  4.1       ,  2.7       ,  3.8       ,  5.5       ,\n",
       "        2.8       ,  3.3       ,  3.4       ,  4.2       ,  3.        ,\n",
       "        4.8       ,  4.3       ,  0.05      ,  3.2       ,  5.4       ,\n",
       "        4.        ,  3.6       ,  5.2       ,  5.        ,  6.        ,\n",
       "        5.3       ,  4.6       ,  4.5       ,  7.3       ,  4.7       ,\n",
       "        6.7       ,  6.1       ,  0.1       ,  4.9       , 10.6       ,\n",
       "        5.1       ,  7.        ,  6.2       ,  4.4       ,  7.1       ,\n",
       "        8.5       ,  1.44      ,  7.6       ,  5.7       ,  6.6       ])"
      ]
     },
     "execution_count": 87,
     "metadata": {},
     "output_type": "execute_result"
    }
   ],
   "source": [
    "df['T3'].unique()"
   ]
  },
  {
   "cell_type": "code",
   "execution_count": 88,
   "id": "bedef462",
   "metadata": {},
   "outputs": [
    {
     "data": {
      "text/plain": [
       "1181    t\n",
       "3535    t\n",
       "1244    t\n",
       "800     t\n",
       "2255    t\n",
       "       ..\n",
       "3767    f\n",
       "3768    t\n",
       "3769    t\n",
       "3770    t\n",
       "3771    t\n",
       "Name: TT4 measured, Length: 6962, dtype: object"
      ]
     },
     "execution_count": 88,
     "metadata": {},
     "output_type": "execute_result"
    }
   ],
   "source": [
    "df['TT4 measured']"
   ]
  },
  {
   "cell_type": "code",
   "execution_count": 89,
   "id": "d4af190b",
   "metadata": {},
   "outputs": [],
   "source": [
    "df['TT4 measured'].replace({'f':0,'t':1},inplace=True)"
   ]
  },
  {
   "cell_type": "code",
   "execution_count": 90,
   "id": "65f6585a",
   "metadata": {},
   "outputs": [
    {
     "data": {
      "text/plain": [
       "array([1, 0], dtype=int64)"
      ]
     },
     "execution_count": 90,
     "metadata": {},
     "output_type": "execute_result"
    }
   ],
   "source": [
    "df['TT4 measured'].unique()"
   ]
  },
  {
   "cell_type": "code",
   "execution_count": 91,
   "id": "2722d4be",
   "metadata": {},
   "outputs": [],
   "source": [
    "df['TT4 measured']=pd.to_numeric(df['TT4 measured'], errors='coerce')"
   ]
  },
  {
   "cell_type": "code",
   "execution_count": 92,
   "id": "967c551a",
   "metadata": {},
   "outputs": [
    {
     "data": {
      "text/plain": [
       "numpy.int64"
      ]
     },
     "execution_count": 92,
     "metadata": {},
     "output_type": "execute_result"
    }
   ],
   "source": [
    "type(df['TT4 measured'][0])"
   ]
  },
  {
   "cell_type": "code",
   "execution_count": 93,
   "id": "fbbcb7df",
   "metadata": {},
   "outputs": [],
   "source": [
    "df['TT4']=pd.to_numeric(df['TT4'], errors='coerce')"
   ]
  },
  {
   "cell_type": "code",
   "execution_count": 94,
   "id": "cc6a3d96",
   "metadata": {},
   "outputs": [
    {
     "data": {
      "text/plain": [
       "numpy.float64"
      ]
     },
     "execution_count": 94,
     "metadata": {},
     "output_type": "execute_result"
    }
   ],
   "source": [
    "type(df['TT4'][0])"
   ]
  },
  {
   "cell_type": "code",
   "execution_count": 95,
   "id": "2c7a3b43",
   "metadata": {},
   "outputs": [
    {
     "data": {
      "text/plain": [
       "91.77521303632828"
      ]
     },
     "execution_count": 95,
     "metadata": {},
     "output_type": "execute_result"
    }
   ],
   "source": [
    "tt4_m=df['TT4'].mean()\n",
    "tt4_m"
   ]
  },
  {
   "cell_type": "code",
   "execution_count": 96,
   "id": "2c5fdc12",
   "metadata": {},
   "outputs": [],
   "source": [
    "df['TT4'].fillna(tt4_m,inplace=True)"
   ]
  },
  {
   "cell_type": "code",
   "execution_count": 97,
   "id": "092da268",
   "metadata": {},
   "outputs": [
    {
     "data": {
      "text/plain": [
       "array(['t', 'f'], dtype=object)"
      ]
     },
     "execution_count": 97,
     "metadata": {},
     "output_type": "execute_result"
    }
   ],
   "source": [
    "df['T4U measured'].unique()"
   ]
  },
  {
   "cell_type": "code",
   "execution_count": 98,
   "id": "ee3df02d",
   "metadata": {},
   "outputs": [],
   "source": [
    "df['T4U measured'].replace({'f':0,'t':1},inplace=True)"
   ]
  },
  {
   "cell_type": "code",
   "execution_count": 99,
   "id": "4309d3b3",
   "metadata": {},
   "outputs": [],
   "source": [
    "df['T4U measured']=pd.to_numeric(df['TT4 measured'], errors='coerce')"
   ]
  },
  {
   "cell_type": "code",
   "execution_count": 100,
   "id": "97096c91",
   "metadata": {},
   "outputs": [
    {
     "data": {
      "text/plain": [
       "numpy.int64"
      ]
     },
     "execution_count": 100,
     "metadata": {},
     "output_type": "execute_result"
    }
   ],
   "source": [
    "type(df['T4U measured'][0])"
   ]
  },
  {
   "cell_type": "code",
   "execution_count": 101,
   "id": "d9f51342",
   "metadata": {},
   "outputs": [
    {
     "data": {
      "text/plain": [
       "1181    1.29\n",
       "3535    1.02\n",
       "1244    1.11\n",
       "800     1.08\n",
       "2255    1.06\n",
       "        ... \n",
       "3767       ?\n",
       "3768    1.08\n",
       "3769    1.07\n",
       "3770    0.94\n",
       "3771    1.07\n",
       "Name: T4U, Length: 6962, dtype: object"
      ]
     },
     "execution_count": 101,
     "metadata": {},
     "output_type": "execute_result"
    }
   ],
   "source": [
    "df['T4U']"
   ]
  },
  {
   "cell_type": "code",
   "execution_count": 102,
   "id": "8f993e5b",
   "metadata": {},
   "outputs": [],
   "source": [
    "df['T4U']=pd.to_numeric(df['TT4'], errors='coerce')"
   ]
  },
  {
   "cell_type": "code",
   "execution_count": 103,
   "id": "35a58606",
   "metadata": {},
   "outputs": [
    {
     "data": {
      "text/plain": [
       "91.77521303632858"
      ]
     },
     "execution_count": 103,
     "metadata": {},
     "output_type": "execute_result"
    }
   ],
   "source": [
    "t4u_m=df['T4U'].mean()\n",
    "t4u_m"
   ]
  },
  {
   "cell_type": "code",
   "execution_count": 104,
   "id": "e3c38ae1",
   "metadata": {},
   "outputs": [],
   "source": [
    "df['T4U'].fillna(t4u_m,inplace=True)"
   ]
  },
  {
   "cell_type": "code",
   "execution_count": 105,
   "id": "e3f2bae4",
   "metadata": {},
   "outputs": [
    {
     "data": {
      "text/plain": [
       "1181    144.000000\n",
       "3535      3.000000\n",
       "1244     14.000000\n",
       "800      15.000000\n",
       "2255    109.000000\n",
       "           ...    \n",
       "3767     91.775213\n",
       "3768    124.000000\n",
       "3769    112.000000\n",
       "3770     82.000000\n",
       "3771     99.000000\n",
       "Name: T4U, Length: 6962, dtype: float64"
      ]
     },
     "execution_count": 105,
     "metadata": {},
     "output_type": "execute_result"
    }
   ],
   "source": [
    "df['T4U']"
   ]
  },
  {
   "cell_type": "code",
   "execution_count": 106,
   "id": "27fbb0ff",
   "metadata": {},
   "outputs": [
    {
     "data": {
      "text/plain": [
       "array(['t', 'f'], dtype=object)"
      ]
     },
     "execution_count": 106,
     "metadata": {},
     "output_type": "execute_result"
    }
   ],
   "source": [
    "df['FTI measured'].unique()"
   ]
  },
  {
   "cell_type": "code",
   "execution_count": 107,
   "id": "61298e76",
   "metadata": {},
   "outputs": [],
   "source": [
    "df['FTI measured'].replace({'f':0,'t':1},inplace=True)"
   ]
  },
  {
   "cell_type": "code",
   "execution_count": 108,
   "id": "4d5dea39",
   "metadata": {},
   "outputs": [
    {
     "data": {
      "text/plain": [
       "numpy.int64"
      ]
     },
     "execution_count": 108,
     "metadata": {},
     "output_type": "execute_result"
    }
   ],
   "source": [
    "type(df['FTI measured'][0])"
   ]
  },
  {
   "cell_type": "code",
   "execution_count": 109,
   "id": "c4d76738",
   "metadata": {},
   "outputs": [],
   "source": [
    "df['FTI']=pd.to_numeric(df['FTI'], errors='coerce')"
   ]
  },
  {
   "cell_type": "code",
   "execution_count": 110,
   "id": "340db67d",
   "metadata": {},
   "outputs": [
    {
     "data": {
      "text/plain": [
       "93.46725747744894"
      ]
     },
     "execution_count": 110,
     "metadata": {},
     "output_type": "execute_result"
    }
   ],
   "source": [
    "fti_m = df['FTI'].mean()\n",
    "fti_m"
   ]
  },
  {
   "cell_type": "code",
   "execution_count": 111,
   "id": "fad298ce",
   "metadata": {},
   "outputs": [],
   "source": [
    "df['FTI'].fillna(fti_m,inplace=True)"
   ]
  },
  {
   "cell_type": "markdown",
   "id": "4e39a27b",
   "metadata": {},
   "source": [
    "df['TBG'] has f & df['TBG measured'] has ? value so no need to preprocess"
   ]
  },
  {
   "cell_type": "code",
   "execution_count": 112,
   "id": "0f03fea2",
   "metadata": {},
   "outputs": [],
   "source": [
    "from sklearn import preprocessing\n",
    "label_encoder = preprocessing.LabelEncoder()\n",
    "\n",
    "df['referral source']=label_encoder.fit_transform(df['referral source'])"
   ]
  },
  {
   "cell_type": "code",
   "execution_count": 113,
   "id": "88c0ef2e",
   "metadata": {},
   "outputs": [
    {
     "data": {
      "text/plain": [
       "array([4, 3, 0, 2, 1])"
      ]
     },
     "execution_count": 113,
     "metadata": {},
     "output_type": "execute_result"
    }
   ],
   "source": [
    "df['referral source'].unique()"
   ]
  },
  {
   "cell_type": "code",
   "execution_count": 114,
   "id": "83a7f57c",
   "metadata": {},
   "outputs": [],
   "source": [
    "df['referral source']=pd.to_numeric(df['referral source'], errors='coerce')"
   ]
  },
  {
   "cell_type": "code",
   "execution_count": 115,
   "id": "db23db46",
   "metadata": {},
   "outputs": [
    {
     "data": {
      "text/plain": [
       "numpy.int32"
      ]
     },
     "execution_count": 115,
     "metadata": {},
     "output_type": "execute_result"
    }
   ],
   "source": [
    "type(df['referral source'][0])"
   ]
  },
  {
   "cell_type": "code",
   "execution_count": 116,
   "id": "dcc6e1cc",
   "metadata": {},
   "outputs": [],
   "source": [
    "# df['binaryClass'].replace({'P':0,'N':1},inplace=True)\n",
    "# df['binaryClass'].unique()"
   ]
  },
  {
   "cell_type": "code",
   "execution_count": 117,
   "id": "8d50f940",
   "metadata": {},
   "outputs": [],
   "source": [
    "# df['binaryClass'].value_counts()"
   ]
  },
  {
   "cell_type": "code",
   "execution_count": 118,
   "id": "4b196c37",
   "metadata": {},
   "outputs": [
    {
     "name": "stdout",
     "output_type": "stream",
     "text": [
      "<class 'pandas.core.frame.DataFrame'>\n",
      "Int64Index: 6962 entries, 1181 to 3771\n",
      "Data columns (total 30 columns):\n",
      " #   Column                     Non-Null Count  Dtype  \n",
      "---  ------                     --------------  -----  \n",
      " 0   age                        6962 non-null   float64\n",
      " 1   sex                        6962 non-null   int64  \n",
      " 2   on thyroxine               6962 non-null   int64  \n",
      " 3   query on thyroxine         6962 non-null   int64  \n",
      " 4   on antithyroid medication  6962 non-null   int64  \n",
      " 5   sick                       6962 non-null   int64  \n",
      " 6   pregnant                   6962 non-null   int64  \n",
      " 7   thyroid surgery            6962 non-null   int64  \n",
      " 8   I131 treatment             6962 non-null   int64  \n",
      " 9   query hypothyroid          6962 non-null   int64  \n",
      " 10  query hyperthyroid         6962 non-null   int64  \n",
      " 11  lithium                    6962 non-null   int64  \n",
      " 12  goitre                     6962 non-null   int64  \n",
      " 13  tumor                      6962 non-null   int64  \n",
      " 14  hypopituitary              6962 non-null   int64  \n",
      " 15  psych                      6962 non-null   int64  \n",
      " 16  TSH measured               6962 non-null   int64  \n",
      " 17  TSH                        6962 non-null   float64\n",
      " 18  T3 measured                6962 non-null   int64  \n",
      " 19  T3                         6962 non-null   float64\n",
      " 20  TT4 measured               6962 non-null   int64  \n",
      " 21  TT4                        6962 non-null   float64\n",
      " 22  T4U measured               6962 non-null   int64  \n",
      " 23  T4U                        6962 non-null   float64\n",
      " 24  FTI measured               6962 non-null   int64  \n",
      " 25  FTI                        6962 non-null   float64\n",
      " 26  TBG measured               6962 non-null   object \n",
      " 27  TBG                        6962 non-null   object \n",
      " 28  referral source            6962 non-null   int32  \n",
      " 29  binaryClass                6962 non-null   int64  \n",
      "dtypes: float64(6), int32(1), int64(21), object(2)\n",
      "memory usage: 1.9+ MB\n"
     ]
    }
   ],
   "source": [
    "df.info()"
   ]
  },
  {
   "cell_type": "code",
   "execution_count": 119,
   "id": "7fe73a70",
   "metadata": {},
   "outputs": [],
   "source": [
    "X= df[['age', 'sex', 'on thyroxine', 'query on thyroxine', 'on antithyroid medication', 'sick', 'pregnant', 'thyroid surgery', 'I131 treatment', 'query hypothyroid', 'query hyperthyroid', 'lithium', 'goitre', 'tumor', 'hypopituitary', 'psych', 'TSH measured', 'TSH', 'T3 measured', 'T3', 'TT4 measured', 'TT4', 'T4U measured', 'T4U', 'FTI measured', 'FTI', 'referral source']]\n",
    "y=df['binaryClass']"
   ]
  },
  {
   "cell_type": "code",
   "execution_count": 120,
   "id": "bb93e003",
   "metadata": {},
   "outputs": [
    {
     "data": {
      "text/html": [
       "<div>\n",
       "<style scoped>\n",
       "    .dataframe tbody tr th:only-of-type {\n",
       "        vertical-align: middle;\n",
       "    }\n",
       "\n",
       "    .dataframe tbody tr th {\n",
       "        vertical-align: top;\n",
       "    }\n",
       "\n",
       "    .dataframe thead th {\n",
       "        text-align: right;\n",
       "    }\n",
       "</style>\n",
       "<table border=\"1\" class=\"dataframe\">\n",
       "  <thead>\n",
       "    <tr style=\"text-align: right;\">\n",
       "      <th></th>\n",
       "      <th>age</th>\n",
       "      <th>sex</th>\n",
       "      <th>on thyroxine</th>\n",
       "      <th>query on thyroxine</th>\n",
       "      <th>on antithyroid medication</th>\n",
       "      <th>sick</th>\n",
       "      <th>pregnant</th>\n",
       "      <th>thyroid surgery</th>\n",
       "      <th>I131 treatment</th>\n",
       "      <th>query hypothyroid</th>\n",
       "      <th>...</th>\n",
       "      <th>TSH</th>\n",
       "      <th>T3 measured</th>\n",
       "      <th>T3</th>\n",
       "      <th>TT4 measured</th>\n",
       "      <th>TT4</th>\n",
       "      <th>T4U measured</th>\n",
       "      <th>T4U</th>\n",
       "      <th>FTI measured</th>\n",
       "      <th>FTI</th>\n",
       "      <th>referral source</th>\n",
       "    </tr>\n",
       "  </thead>\n",
       "  <tbody>\n",
       "    <tr>\n",
       "      <th>1181</th>\n",
       "      <td>79.0</td>\n",
       "      <td>0</td>\n",
       "      <td>0</td>\n",
       "      <td>0</td>\n",
       "      <td>0</td>\n",
       "      <td>0</td>\n",
       "      <td>0</td>\n",
       "      <td>0</td>\n",
       "      <td>0</td>\n",
       "      <td>0</td>\n",
       "      <td>...</td>\n",
       "      <td>6.800000</td>\n",
       "      <td>0</td>\n",
       "      <td>1.756319</td>\n",
       "      <td>1</td>\n",
       "      <td>144.000000</td>\n",
       "      <td>1</td>\n",
       "      <td>144.000000</td>\n",
       "      <td>1</td>\n",
       "      <td>111.000000</td>\n",
       "      <td>4</td>\n",
       "    </tr>\n",
       "    <tr>\n",
       "      <th>3535</th>\n",
       "      <td>32.0</td>\n",
       "      <td>1</td>\n",
       "      <td>0</td>\n",
       "      <td>0</td>\n",
       "      <td>0</td>\n",
       "      <td>0</td>\n",
       "      <td>0</td>\n",
       "      <td>0</td>\n",
       "      <td>0</td>\n",
       "      <td>0</td>\n",
       "      <td>...</td>\n",
       "      <td>109.000000</td>\n",
       "      <td>1</td>\n",
       "      <td>0.200000</td>\n",
       "      <td>1</td>\n",
       "      <td>3.000000</td>\n",
       "      <td>1</td>\n",
       "      <td>3.000000</td>\n",
       "      <td>1</td>\n",
       "      <td>3.000000</td>\n",
       "      <td>4</td>\n",
       "    </tr>\n",
       "    <tr>\n",
       "      <th>1244</th>\n",
       "      <td>55.0</td>\n",
       "      <td>1</td>\n",
       "      <td>0</td>\n",
       "      <td>0</td>\n",
       "      <td>0</td>\n",
       "      <td>0</td>\n",
       "      <td>0</td>\n",
       "      <td>0</td>\n",
       "      <td>0</td>\n",
       "      <td>0</td>\n",
       "      <td>...</td>\n",
       "      <td>60.000000</td>\n",
       "      <td>1</td>\n",
       "      <td>0.700000</td>\n",
       "      <td>1</td>\n",
       "      <td>14.000000</td>\n",
       "      <td>1</td>\n",
       "      <td>14.000000</td>\n",
       "      <td>1</td>\n",
       "      <td>13.000000</td>\n",
       "      <td>4</td>\n",
       "    </tr>\n",
       "    <tr>\n",
       "      <th>800</th>\n",
       "      <td>65.0</td>\n",
       "      <td>0</td>\n",
       "      <td>0</td>\n",
       "      <td>0</td>\n",
       "      <td>0</td>\n",
       "      <td>0</td>\n",
       "      <td>0</td>\n",
       "      <td>0</td>\n",
       "      <td>0</td>\n",
       "      <td>0</td>\n",
       "      <td>...</td>\n",
       "      <td>55.000000</td>\n",
       "      <td>1</td>\n",
       "      <td>0.700000</td>\n",
       "      <td>1</td>\n",
       "      <td>15.000000</td>\n",
       "      <td>1</td>\n",
       "      <td>15.000000</td>\n",
       "      <td>1</td>\n",
       "      <td>14.000000</td>\n",
       "      <td>3</td>\n",
       "    </tr>\n",
       "    <tr>\n",
       "      <th>2255</th>\n",
       "      <td>52.0</td>\n",
       "      <td>0</td>\n",
       "      <td>0</td>\n",
       "      <td>0</td>\n",
       "      <td>0</td>\n",
       "      <td>0</td>\n",
       "      <td>0</td>\n",
       "      <td>0</td>\n",
       "      <td>0</td>\n",
       "      <td>0</td>\n",
       "      <td>...</td>\n",
       "      <td>12.000000</td>\n",
       "      <td>1</td>\n",
       "      <td>1.800000</td>\n",
       "      <td>1</td>\n",
       "      <td>109.000000</td>\n",
       "      <td>1</td>\n",
       "      <td>109.000000</td>\n",
       "      <td>1</td>\n",
       "      <td>102.000000</td>\n",
       "      <td>4</td>\n",
       "    </tr>\n",
       "    <tr>\n",
       "      <th>...</th>\n",
       "      <td>...</td>\n",
       "      <td>...</td>\n",
       "      <td>...</td>\n",
       "      <td>...</td>\n",
       "      <td>...</td>\n",
       "      <td>...</td>\n",
       "      <td>...</td>\n",
       "      <td>...</td>\n",
       "      <td>...</td>\n",
       "      <td>...</td>\n",
       "      <td>...</td>\n",
       "      <td>...</td>\n",
       "      <td>...</td>\n",
       "      <td>...</td>\n",
       "      <td>...</td>\n",
       "      <td>...</td>\n",
       "      <td>...</td>\n",
       "      <td>...</td>\n",
       "      <td>...</td>\n",
       "      <td>...</td>\n",
       "      <td>...</td>\n",
       "    </tr>\n",
       "    <tr>\n",
       "      <th>3767</th>\n",
       "      <td>30.0</td>\n",
       "      <td>0</td>\n",
       "      <td>0</td>\n",
       "      <td>0</td>\n",
       "      <td>0</td>\n",
       "      <td>0</td>\n",
       "      <td>0</td>\n",
       "      <td>0</td>\n",
       "      <td>0</td>\n",
       "      <td>0</td>\n",
       "      <td>...</td>\n",
       "      <td>22.354957</td>\n",
       "      <td>0</td>\n",
       "      <td>1.756319</td>\n",
       "      <td>0</td>\n",
       "      <td>91.775213</td>\n",
       "      <td>0</td>\n",
       "      <td>91.775213</td>\n",
       "      <td>0</td>\n",
       "      <td>93.467257</td>\n",
       "      <td>4</td>\n",
       "    </tr>\n",
       "    <tr>\n",
       "      <th>3768</th>\n",
       "      <td>68.0</td>\n",
       "      <td>0</td>\n",
       "      <td>0</td>\n",
       "      <td>0</td>\n",
       "      <td>0</td>\n",
       "      <td>0</td>\n",
       "      <td>0</td>\n",
       "      <td>0</td>\n",
       "      <td>0</td>\n",
       "      <td>0</td>\n",
       "      <td>...</td>\n",
       "      <td>1.000000</td>\n",
       "      <td>1</td>\n",
       "      <td>2.100000</td>\n",
       "      <td>1</td>\n",
       "      <td>124.000000</td>\n",
       "      <td>1</td>\n",
       "      <td>124.000000</td>\n",
       "      <td>1</td>\n",
       "      <td>114.000000</td>\n",
       "      <td>3</td>\n",
       "    </tr>\n",
       "    <tr>\n",
       "      <th>3769</th>\n",
       "      <td>74.0</td>\n",
       "      <td>0</td>\n",
       "      <td>0</td>\n",
       "      <td>0</td>\n",
       "      <td>0</td>\n",
       "      <td>0</td>\n",
       "      <td>0</td>\n",
       "      <td>0</td>\n",
       "      <td>0</td>\n",
       "      <td>0</td>\n",
       "      <td>...</td>\n",
       "      <td>5.100000</td>\n",
       "      <td>1</td>\n",
       "      <td>1.800000</td>\n",
       "      <td>1</td>\n",
       "      <td>112.000000</td>\n",
       "      <td>1</td>\n",
       "      <td>112.000000</td>\n",
       "      <td>1</td>\n",
       "      <td>105.000000</td>\n",
       "      <td>4</td>\n",
       "    </tr>\n",
       "    <tr>\n",
       "      <th>3770</th>\n",
       "      <td>72.0</td>\n",
       "      <td>1</td>\n",
       "      <td>0</td>\n",
       "      <td>0</td>\n",
       "      <td>0</td>\n",
       "      <td>0</td>\n",
       "      <td>0</td>\n",
       "      <td>0</td>\n",
       "      <td>0</td>\n",
       "      <td>0</td>\n",
       "      <td>...</td>\n",
       "      <td>0.700000</td>\n",
       "      <td>1</td>\n",
       "      <td>2.000000</td>\n",
       "      <td>1</td>\n",
       "      <td>82.000000</td>\n",
       "      <td>1</td>\n",
       "      <td>82.000000</td>\n",
       "      <td>1</td>\n",
       "      <td>87.000000</td>\n",
       "      <td>3</td>\n",
       "    </tr>\n",
       "    <tr>\n",
       "      <th>3771</th>\n",
       "      <td>64.0</td>\n",
       "      <td>0</td>\n",
       "      <td>0</td>\n",
       "      <td>0</td>\n",
       "      <td>0</td>\n",
       "      <td>0</td>\n",
       "      <td>0</td>\n",
       "      <td>0</td>\n",
       "      <td>0</td>\n",
       "      <td>0</td>\n",
       "      <td>...</td>\n",
       "      <td>1.000000</td>\n",
       "      <td>1</td>\n",
       "      <td>2.200000</td>\n",
       "      <td>1</td>\n",
       "      <td>99.000000</td>\n",
       "      <td>1</td>\n",
       "      <td>99.000000</td>\n",
       "      <td>1</td>\n",
       "      <td>92.000000</td>\n",
       "      <td>4</td>\n",
       "    </tr>\n",
       "  </tbody>\n",
       "</table>\n",
       "<p>6962 rows × 27 columns</p>\n",
       "</div>"
      ],
      "text/plain": [
       "       age  sex  on thyroxine  query on thyroxine  on antithyroid medication  \\\n",
       "1181  79.0    0             0                   0                          0   \n",
       "3535  32.0    1             0                   0                          0   \n",
       "1244  55.0    1             0                   0                          0   \n",
       "800   65.0    0             0                   0                          0   \n",
       "2255  52.0    0             0                   0                          0   \n",
       "...    ...  ...           ...                 ...                        ...   \n",
       "3767  30.0    0             0                   0                          0   \n",
       "3768  68.0    0             0                   0                          0   \n",
       "3769  74.0    0             0                   0                          0   \n",
       "3770  72.0    1             0                   0                          0   \n",
       "3771  64.0    0             0                   0                          0   \n",
       "\n",
       "      sick  pregnant  thyroid surgery  I131 treatment  query hypothyroid  ...  \\\n",
       "1181     0         0                0               0                  0  ...   \n",
       "3535     0         0                0               0                  0  ...   \n",
       "1244     0         0                0               0                  0  ...   \n",
       "800      0         0                0               0                  0  ...   \n",
       "2255     0         0                0               0                  0  ...   \n",
       "...    ...       ...              ...             ...                ...  ...   \n",
       "3767     0         0                0               0                  0  ...   \n",
       "3768     0         0                0               0                  0  ...   \n",
       "3769     0         0                0               0                  0  ...   \n",
       "3770     0         0                0               0                  0  ...   \n",
       "3771     0         0                0               0                  0  ...   \n",
       "\n",
       "             TSH  T3 measured        T3  TT4 measured         TT4  \\\n",
       "1181    6.800000            0  1.756319             1  144.000000   \n",
       "3535  109.000000            1  0.200000             1    3.000000   \n",
       "1244   60.000000            1  0.700000             1   14.000000   \n",
       "800    55.000000            1  0.700000             1   15.000000   \n",
       "2255   12.000000            1  1.800000             1  109.000000   \n",
       "...          ...          ...       ...           ...         ...   \n",
       "3767   22.354957            0  1.756319             0   91.775213   \n",
       "3768    1.000000            1  2.100000             1  124.000000   \n",
       "3769    5.100000            1  1.800000             1  112.000000   \n",
       "3770    0.700000            1  2.000000             1   82.000000   \n",
       "3771    1.000000            1  2.200000             1   99.000000   \n",
       "\n",
       "      T4U measured         T4U  FTI measured         FTI  referral source  \n",
       "1181             1  144.000000             1  111.000000                4  \n",
       "3535             1    3.000000             1    3.000000                4  \n",
       "1244             1   14.000000             1   13.000000                4  \n",
       "800              1   15.000000             1   14.000000                3  \n",
       "2255             1  109.000000             1  102.000000                4  \n",
       "...            ...         ...           ...         ...              ...  \n",
       "3767             0   91.775213             0   93.467257                4  \n",
       "3768             1  124.000000             1  114.000000                3  \n",
       "3769             1  112.000000             1  105.000000                4  \n",
       "3770             1   82.000000             1   87.000000                3  \n",
       "3771             1   99.000000             1   92.000000                4  \n",
       "\n",
       "[6962 rows x 27 columns]"
      ]
     },
     "execution_count": 120,
     "metadata": {},
     "output_type": "execute_result"
    }
   ],
   "source": [
    "X"
   ]
  },
  {
   "cell_type": "code",
   "execution_count": 121,
   "id": "fe87a073",
   "metadata": {},
   "outputs": [
    {
     "data": {
      "text/plain": [
       "array([1, 0], dtype=int64)"
      ]
     },
     "execution_count": 121,
     "metadata": {},
     "output_type": "execute_result"
    }
   ],
   "source": [
    "df['binaryClass'].unique()"
   ]
  },
  {
   "cell_type": "code",
   "execution_count": 122,
   "id": "cea9c71a",
   "metadata": {},
   "outputs": [],
   "source": [
    "#np.where(np.isnan(X))"
   ]
  },
  {
   "cell_type": "code",
   "execution_count": 123,
   "id": "aa0700bf",
   "metadata": {},
   "outputs": [
    {
     "data": {
      "text/plain": [
       "array([[ 79.,   0.,   0., ...,   1., 111.,   4.],\n",
       "       [ 32.,   1.,   0., ...,   1.,   3.,   4.],\n",
       "       [ 55.,   1.,   0., ...,   1.,  13.,   4.],\n",
       "       ...,\n",
       "       [ 74.,   0.,   0., ...,   1., 105.,   4.],\n",
       "       [ 72.,   1.,   0., ...,   1.,  87.,   3.],\n",
       "       [ 64.,   0.,   0., ...,   1.,  92.,   4.]])"
      ]
     },
     "execution_count": 123,
     "metadata": {},
     "output_type": "execute_result"
    }
   ],
   "source": [
    "np.nan_to_num(X)"
   ]
  },
  {
   "cell_type": "code",
   "execution_count": 124,
   "id": "13290c66",
   "metadata": {},
   "outputs": [],
   "source": [
    "df.drop('TBG measured',axis=1,inplace=True)"
   ]
  },
  {
   "cell_type": "code",
   "execution_count": 125,
   "id": "2eda7539",
   "metadata": {},
   "outputs": [],
   "source": [
    "df.drop('TBG',axis=1,inplace=True)"
   ]
  },
  {
   "cell_type": "code",
   "execution_count": 126,
   "id": "de952a4d",
   "metadata": {},
   "outputs": [
    {
     "name": "stdout",
     "output_type": "stream",
     "text": [
      "<class 'pandas.core.frame.DataFrame'>\n",
      "Int64Index: 6962 entries, 1181 to 3771\n",
      "Data columns (total 28 columns):\n",
      " #   Column                     Non-Null Count  Dtype  \n",
      "---  ------                     --------------  -----  \n",
      " 0   age                        6962 non-null   float64\n",
      " 1   sex                        6962 non-null   int64  \n",
      " 2   on thyroxine               6962 non-null   int64  \n",
      " 3   query on thyroxine         6962 non-null   int64  \n",
      " 4   on antithyroid medication  6962 non-null   int64  \n",
      " 5   sick                       6962 non-null   int64  \n",
      " 6   pregnant                   6962 non-null   int64  \n",
      " 7   thyroid surgery            6962 non-null   int64  \n",
      " 8   I131 treatment             6962 non-null   int64  \n",
      " 9   query hypothyroid          6962 non-null   int64  \n",
      " 10  query hyperthyroid         6962 non-null   int64  \n",
      " 11  lithium                    6962 non-null   int64  \n",
      " 12  goitre                     6962 non-null   int64  \n",
      " 13  tumor                      6962 non-null   int64  \n",
      " 14  hypopituitary              6962 non-null   int64  \n",
      " 15  psych                      6962 non-null   int64  \n",
      " 16  TSH measured               6962 non-null   int64  \n",
      " 17  TSH                        6962 non-null   float64\n",
      " 18  T3 measured                6962 non-null   int64  \n",
      " 19  T3                         6962 non-null   float64\n",
      " 20  TT4 measured               6962 non-null   int64  \n",
      " 21  TT4                        6962 non-null   float64\n",
      " 22  T4U measured               6962 non-null   int64  \n",
      " 23  T4U                        6962 non-null   float64\n",
      " 24  FTI measured               6962 non-null   int64  \n",
      " 25  FTI                        6962 non-null   float64\n",
      " 26  referral source            6962 non-null   int32  \n",
      " 27  binaryClass                6962 non-null   int64  \n",
      "dtypes: float64(6), int32(1), int64(21)\n",
      "memory usage: 1.8 MB\n"
     ]
    }
   ],
   "source": [
    "df.info()"
   ]
  },
  {
   "cell_type": "code",
   "execution_count": 127,
   "id": "2c499a04",
   "metadata": {},
   "outputs": [],
   "source": [
    "# Handling Outliers\n",
    "#df[['TSH','TT4','FTI','T4U']]  This are the input that we are passing to our Model"
   ]
  },
  {
   "cell_type": "code",
   "execution_count": 128,
   "id": "a10bc89c",
   "metadata": {},
   "outputs": [
    {
     "data": {
      "text/plain": [
       "1181      6.8\n",
       "3535    109.0\n",
       "1244     60.0\n",
       "800      55.0\n",
       "2255     12.0\n",
       "Name: TSH, dtype: float64"
      ]
     },
     "execution_count": 128,
     "metadata": {},
     "output_type": "execute_result"
    }
   ],
   "source": [
    "df['TSH'].head()"
   ]
  },
  {
   "cell_type": "code",
   "execution_count": 129,
   "id": "ae6d0dc6",
   "metadata": {},
   "outputs": [
    {
     "name": "stderr",
     "output_type": "stream",
     "text": [
      "C:\\anacoda python\\lib\\site-packages\\seaborn\\_decorators.py:36: FutureWarning: Pass the following variable as a keyword arg: x. From version 0.12, the only valid positional argument will be `data`, and passing other arguments without an explicit keyword will result in an error or misinterpretation.\n",
      "  warnings.warn(\n"
     ]
    },
    {
     "data": {
      "text/plain": [
       "<AxesSubplot:xlabel='TSH'>"
      ]
     },
     "execution_count": 129,
     "metadata": {},
     "output_type": "execute_result"
    },
    {
     "data": {
      "image/png": "[encoded data removed]",
      "text/plain": [
       "<Figure size 432x288 with 1 Axes>"
      ]
     },
     "metadata": {
      "needs_background": "light"
     },
     "output_type": "display_data"
    }
   ],
   "source": [
    "sns.boxplot(df['TSH'])"
   ]
  },
  {
   "cell_type": "code",
   "execution_count": 130,
   "id": "033c73af",
   "metadata": {},
   "outputs": [
    {
     "name": "stderr",
     "output_type": "stream",
     "text": [
      "C:\\anacoda python\\lib\\site-packages\\seaborn\\distributions.py:2619: FutureWarning: `distplot` is a deprecated function and will be removed in a future version. Please adapt your code to use either `displot` (a figure-level function with similar flexibility) or `histplot` (an axes-level function for histograms).\n",
      "  warnings.warn(msg, FutureWarning)\n"
     ]
    },
    {
     "data": {
      "image/png": "[encoded data removed]",
      "text/plain": [
       "<Figure size 432x288 with 1 Axes>"
      ]
     },
     "metadata": {
      "needs_background": "light"
     },
     "output_type": "display_data"
    }
   ],
   "source": [
    "sns.distplot(df['TSH'],bins=15,kde=False)\n",
    "plt.show()"
   ]
  },
  {
   "cell_type": "code",
   "execution_count": 131,
   "id": "c5dfed7e",
   "metadata": {},
   "outputs": [
    {
     "data": {
      "text/plain": [
       "count    6962.000000\n",
       "mean       22.354957\n",
       "std        56.939783\n",
       "min         0.005000\n",
       "25%         1.400000\n",
       "50%         6.900000\n",
       "75%        20.000000\n",
       "max       530.000000\n",
       "Name: TSH, dtype: float64"
      ]
     },
     "execution_count": 131,
     "metadata": {},
     "output_type": "execute_result"
    }
   ],
   "source": [
    "df['TSH'].describe()\n"
   ]
  },
  {
   "cell_type": "code",
   "execution_count": 132,
   "id": "018fffd9",
   "metadata": {},
   "outputs": [
    {
     "data": {
      "text/plain": [
       "18.6"
      ]
     },
     "execution_count": 132,
     "metadata": {},
     "output_type": "execute_result"
    }
   ],
   "source": [
    "#lets compute the Interquantile Range  to calculate the boundaries\n",
    "IQR=df['TSH'].quantile(0.75)-df['TSH'].quantile(0.25)\n",
    "IQR"
   ]
  },
  {
   "cell_type": "code",
   "execution_count": 133,
   "id": "db29c8dc",
   "metadata": {},
   "outputs": [],
   "source": [
    "# lower_bridge = df['TSH'].quantile(0.25)-(IQR*1.5)\n",
    "# upper_bridge = df['TSH'].quantile(0.75)+(IQR*1.5)\n",
    "# print('lower_bridge:',lower_bridge)\n",
    "# print('upper_bridge:',upper_bridge)\n",
    "# print('mean:',df['TSH'].mean())"
   ]
  },
  {
   "cell_type": "code",
   "execution_count": 134,
   "id": "d5b82c1e",
   "metadata": {},
   "outputs": [
    {
     "name": "stdout",
     "output_type": "stream",
     "text": [
      "lower_bridge: -54.400000000000006\n",
      "upper_bridge: 75.80000000000001\n",
      "mean: 22.354956772333807\n"
     ]
    }
   ],
   "source": [
    "\n",
    "lower_bridge = df['TSH'].quantile(0.25)-(IQR*3)\n",
    "upper_bridge = df['TSH'].quantile(0.75)+(IQR*3)\n",
    "print('lower_bridge:',lower_bridge)\n",
    "print('upper_bridge:',upper_bridge)\n",
    "print('mean:',df['TSH'].mean())"
   ]
  },
  {
   "cell_type": "code",
   "execution_count": 135,
   "id": "ce844eb4",
   "metadata": {},
   "outputs": [],
   "source": [
    "# FIG=df.boxplot(column='TSH')\n",
    "# FIG"
   ]
  },
  {
   "cell_type": "code",
   "execution_count": 136,
   "id": "52be9067",
   "metadata": {},
   "outputs": [
    {
     "data": {
      "text/plain": [
       "22.354956772333807"
      ]
     },
     "execution_count": 136,
     "metadata": {},
     "output_type": "execute_result"
    }
   ],
   "source": [
    "df['TSH'].mean()"
   ]
  },
  {
   "cell_type": "code",
   "execution_count": 137,
   "id": "acba7704",
   "metadata": {},
   "outputs": [
    {
     "name": "stderr",
     "output_type": "stream",
     "text": [
      "C:\\anacoda python\\lib\\site-packages\\seaborn\\distributions.py:2619: FutureWarning: `distplot` is a deprecated function and will be removed in a future version. Please adapt your code to use either `displot` (a figure-level function with similar flexibility) or `histplot` (an axes-level function for histograms).\n",
      "  warnings.warn(msg, FutureWarning)\n"
     ]
    },
    {
     "data": {
      "image/png": "[encoded data removed]",
      "text/plain": [
       "<Figure size 432x288 with 1 Axes>"
      ]
     },
     "metadata": {
      "needs_background": "light"
     },
     "output_type": "display_data"
    }
   ],
   "source": [
    "sns.distplot(df['TSH'],bins=50,kde=False)\n",
    "plt.show()"
   ]
  },
  {
   "cell_type": "code",
   "execution_count": 138,
   "id": "fd639a45",
   "metadata": {},
   "outputs": [],
   "source": [
    "data=df.copy()\n",
    "data.loc[data['TSH']>=13.399999999999999,'TSH']=5.086766088745215\n",
    "# data.loc[data['FTI']<=-9.0,'FTI']=0"
   ]
  },
  {
   "cell_type": "code",
   "execution_count": 139,
   "id": "0a597895",
   "metadata": {},
   "outputs": [
    {
     "data": {
      "text/plain": [
       "count    6962.000000\n",
       "mean        4.515258\n",
       "std         3.363743\n",
       "min         0.005000\n",
       "25%         1.400000\n",
       "50%         5.086766\n",
       "75%         6.200000\n",
       "max        13.000000\n",
       "Name: TSH, dtype: float64"
      ]
     },
     "execution_count": 139,
     "metadata": {},
     "output_type": "execute_result"
    }
   ],
   "source": [
    "data.TSH.describe()"
   ]
  },
  {
   "cell_type": "code",
   "execution_count": 140,
   "id": "ac5a069b",
   "metadata": {},
   "outputs": [
    {
     "name": "stderr",
     "output_type": "stream",
     "text": [
      "C:\\anacoda python\\lib\\site-packages\\seaborn\\_decorators.py:36: FutureWarning: Pass the following variable as a keyword arg: x. From version 0.12, the only valid positional argument will be `data`, and passing other arguments without an explicit keyword will result in an error or misinterpretation.\n",
      "  warnings.warn(\n"
     ]
    },
    {
     "data": {
      "text/plain": [
       "<AxesSubplot:xlabel='TSH'>"
      ]
     },
     "execution_count": 140,
     "metadata": {},
     "output_type": "execute_result"
    },
    {
     "data": {
      "image/png": "[encoded data removed]",
      "text/plain": [
       "<Figure size 432x288 with 1 Axes>"
      ]
     },
     "metadata": {
      "needs_background": "light"
     },
     "output_type": "display_data"
    }
   ],
   "source": [
    "sns.boxplot(data['TSH'])"
   ]
  },
  {
   "cell_type": "code",
   "execution_count": 141,
   "id": "caa5d01a",
   "metadata": {},
   "outputs": [
    {
     "name": "stderr",
     "output_type": "stream",
     "text": [
      "C:\\anacoda python\\lib\\site-packages\\seaborn\\distributions.py:2619: FutureWarning: `distplot` is a deprecated function and will be removed in a future version. Please adapt your code to use either `displot` (a figure-level function with similar flexibility) or `histplot` (an axes-level function for histograms).\n",
      "  warnings.warn(msg, FutureWarning)\n"
     ]
    },
    {
     "data": {
      "image/png": "[encoded data removed]",
      "text/plain": [
       "<Figure size 432x288 with 1 Axes>"
      ]
     },
     "metadata": {
      "needs_background": "light"
     },
     "output_type": "display_data"
    }
   ],
   "source": [
    "sns.distplot(df['FTI'],bins=50,kde=False)\n",
    "plt.show()"
   ]
  },
  {
   "cell_type": "code",
   "execution_count": 142,
   "id": "95d18108",
   "metadata": {},
   "outputs": [
    {
     "data": {
      "text/plain": [
       "count    6962.000000\n",
       "mean       93.467257\n",
       "std        36.013574\n",
       "min         2.000000\n",
       "25%        77.000000\n",
       "50%        93.467257\n",
       "75%       112.000000\n",
       "max       395.000000\n",
       "Name: FTI, dtype: float64"
      ]
     },
     "execution_count": 142,
     "metadata": {},
     "output_type": "execute_result"
    }
   ],
   "source": [
    "df['FTI'].describe()"
   ]
  },
  {
   "cell_type": "code",
   "execution_count": 143,
   "id": "db2340ba",
   "metadata": {},
   "outputs": [
    {
     "data": {
      "text/plain": [
       "35.0"
      ]
     },
     "execution_count": 143,
     "metadata": {},
     "output_type": "execute_result"
    }
   ],
   "source": [
    "#lets compute the Interquantile Range  to calculate the boundaries\n",
    "IQR=df['FTI'].quantile(0.75)-df['FTI'].quantile(0.25)\n",
    "IQR"
   ]
  },
  {
   "cell_type": "code",
   "execution_count": null,
   "id": "74d17a48",
   "metadata": {},
   "outputs": [],
   "source": []
  },
  {
   "cell_type": "code",
   "execution_count": 144,
   "id": "c8de3a3b",
   "metadata": {},
   "outputs": [],
   "source": [
    "#Assuming FTI follows Gaussion Distribution,we will calculate the boundaries with diffrentiates the outlier.\n",
    "\n",
    "# print('lolower_bridge = df['FTI'].mean()-3*df['FTI'].std()\n",
    "# upper_bridge = df['FTI'].mean()+3*df['FTI'].std()wer_bridge : ',lower_bridge)\n",
    "# print('upper_bridge : ',upper_bridge)\n",
    "# print('Mean :', df['FTI'].mean())"
   ]
  },
  {
   "cell_type": "code",
   "execution_count": null,
   "id": "f78f3cd2",
   "metadata": {},
   "outputs": [],
   "source": []
  },
  {
   "cell_type": "code",
   "execution_count": 145,
   "id": "8f0677a1",
   "metadata": {},
   "outputs": [
    {
     "name": "stdout",
     "output_type": "stream",
     "text": [
      "lower_bridge: 24.5\n",
      "upper_bridge: 164.5\n",
      "mean: 93.46725747744966\n"
     ]
    }
   ],
   "source": [
    "#Gaussion Distribution  We take (IQR*1.5), if we required extreme boundries the we can use (IQR*3)\n",
    "lower_bridge = df['FTI'].quantile(0.25)-(IQR*1.5)\n",
    "upper_bridge = df['FTI'].quantile(0.75)+(IQR*1.5)\n",
    "print('lower_bridge:',lower_bridge)\n",
    "print('upper_bridge:',upper_bridge)\n",
    "print('mean:',df['FTI'].mean())"
   ]
  },
  {
   "cell_type": "code",
   "execution_count": 146,
   "id": "965da13a",
   "metadata": {},
   "outputs": [],
   "source": [
    "# #Extreme Outlier\n",
    "# lower_bridge = df['FTI'].quantile(0.25)-(IQR*3)\n",
    "# upper_bridge = df['FTI'].quantile(0.75)+(IQR*3)\n",
    "# print('lower_bridge:',lower_bridge)\n",
    "# print('upper_bridge:',upper_bridge)\n",
    "# print('mean:',df['FTI'].mean())"
   ]
  },
  {
   "cell_type": "code",
   "execution_count": null,
   "id": "11526760",
   "metadata": {},
   "outputs": [],
   "source": []
  },
  {
   "cell_type": "code",
   "execution_count": 147,
   "id": "edec22b9",
   "metadata": {},
   "outputs": [],
   "source": [
    "data=df.copy()\n",
    "data.loc[data['FTI']>=162.125,'FTI']=162.125\n",
    "data.loc[data['FTI']<=53.125,'FTI']=53.125"
   ]
  },
  {
   "cell_type": "code",
   "execution_count": null,
   "id": "0e352190",
   "metadata": {},
   "outputs": [],
   "source": []
  },
  {
   "cell_type": "code",
   "execution_count": 148,
   "id": "e7f94339",
   "metadata": {},
   "outputs": [
    {
     "name": "stderr",
     "output_type": "stream",
     "text": [
      "C:\\anacoda python\\lib\\site-packages\\seaborn\\distributions.py:2619: FutureWarning: `distplot` is a deprecated function and will be removed in a future version. Please adapt your code to use either `displot` (a figure-level function with similar flexibility) or `histplot` (an axes-level function for histograms).\n",
      "  warnings.warn(msg, FutureWarning)\n"
     ]
    },
    {
     "data": {
      "image/png": "[encoded data removed]",
      "text/plain": [
       "<Figure size 432x288 with 1 Axes>"
      ]
     },
     "metadata": {
      "needs_background": "light"
     },
     "output_type": "display_data"
    }
   ],
   "source": [
    "sns.distplot(data['FTI'],bins=50,kde=False)\n",
    "plt.show()"
   ]
  },
  {
   "cell_type": "code",
   "execution_count": 149,
   "id": "77e7e193",
   "metadata": {},
   "outputs": [
    {
     "name": "stderr",
     "output_type": "stream",
     "text": [
      "C:\\anacoda python\\lib\\site-packages\\seaborn\\_decorators.py:36: FutureWarning: Pass the following variable as a keyword arg: x. From version 0.12, the only valid positional argument will be `data`, and passing other arguments without an explicit keyword will result in an error or misinterpretation.\n",
      "  warnings.warn(\n"
     ]
    },
    {
     "data": {
      "text/plain": [
       "<AxesSubplot:xlabel='FTI'>"
      ]
     },
     "execution_count": 149,
     "metadata": {},
     "output_type": "execute_result"
    },
    {
     "data": {
      "image/png": "[encoded data removed]",
      "text/plain": [
       "<Figure size 432x288 with 1 Axes>"
      ]
     },
     "metadata": {
      "needs_background": "light"
     },
     "output_type": "display_data"
    }
   ],
   "source": [
    "sns.boxplot(data['FTI'])"
   ]
  },
  {
   "cell_type": "markdown",
   "id": "d4398359",
   "metadata": {},
   "source": [
    "when the skewed"
   ]
  },
  {
   "cell_type": "code",
   "execution_count": 150,
   "id": "274efc78",
   "metadata": {},
   "outputs": [
    {
     "name": "stderr",
     "output_type": "stream",
     "text": [
      "C:\\anacoda python\\lib\\site-packages\\seaborn\\_decorators.py:36: FutureWarning: Pass the following variable as a keyword arg: x. From version 0.12, the only valid positional argument will be `data`, and passing other arguments without an explicit keyword will result in an error or misinterpretation.\n",
      "  warnings.warn(\n"
     ]
    },
    {
     "data": {
      "text/plain": [
       "<AxesSubplot:xlabel='TSH'>"
      ]
     },
     "execution_count": 150,
     "metadata": {},
     "output_type": "execute_result"
    },
    {
     "data": {
      "image/png": "[encoded data removed]",
      "text/plain": [
       "<Figure size 432x288 with 1 Axes>"
      ]
     },
     "metadata": {
      "needs_background": "light"
     },
     "output_type": "display_data"
    }
   ],
   "source": [
    "sns.boxplot(df['TSH'])"
   ]
  },
  {
   "cell_type": "code",
   "execution_count": 151,
   "id": "4ca98f7f",
   "metadata": {},
   "outputs": [
    {
     "name": "stderr",
     "output_type": "stream",
     "text": [
      "C:\\anacoda python\\lib\\site-packages\\seaborn\\distributions.py:2619: FutureWarning: `distplot` is a deprecated function and will be removed in a future version. Please adapt your code to use either `displot` (a figure-level function with similar flexibility) or `histplot` (an axes-level function for histograms).\n",
      "  warnings.warn(msg, FutureWarning)\n"
     ]
    },
    {
     "data": {
      "image/png": "[encoded data removed]",
      "text/plain": [
       "<Figure size 432x288 with 1 Axes>"
      ]
     },
     "metadata": {
      "needs_background": "light"
     },
     "output_type": "display_data"
    }
   ],
   "source": [
    "sns.distplot(df['TSH'],bins=10,kde=False)\n",
    "plt.show()"
   ]
  },
  {
   "cell_type": "code",
   "execution_count": 152,
   "id": "31b2d060",
   "metadata": {},
   "outputs": [
    {
     "data": {
      "text/plain": [
       "count    6962.000000\n",
       "mean       22.354957\n",
       "std        56.939783\n",
       "min         0.005000\n",
       "25%         1.400000\n",
       "50%         6.900000\n",
       "75%        20.000000\n",
       "max       530.000000\n",
       "Name: TSH, dtype: float64"
      ]
     },
     "execution_count": 152,
     "metadata": {},
     "output_type": "execute_result"
    }
   ],
   "source": [
    "df['TSH'].describe()"
   ]
  },
  {
   "cell_type": "code",
   "execution_count": 153,
   "id": "8ff5d524",
   "metadata": {},
   "outputs": [
    {
     "data": {
      "text/plain": [
       "18.6"
      ]
     },
     "execution_count": 153,
     "metadata": {},
     "output_type": "execute_result"
    }
   ],
   "source": [
    "#lets compute the Interquantile Range  to calculate the boundaries\n",
    "IQR=df['TSH'].quantile(0.75)-df['TSH'].quantile(0.25)\n",
    "IQR"
   ]
  },
  {
   "cell_type": "code",
   "execution_count": 154,
   "id": "bb189f3d",
   "metadata": {},
   "outputs": [
    {
     "name": "stdout",
     "output_type": "stream",
     "text": [
      "lower_bridge: -54.400000000000006\n",
      "upper_bridge: -35.800000000000004\n",
      "mean: 22.354956772333807\n"
     ]
    }
   ],
   "source": [
    "#Extreme Outlier\n",
    "#If Data is Skewed we must have to take (IQR*3)\n",
    "lower_bridge = df['TSH'].quantile(0.25)-(IQR*3)\n",
    "upper_bridge = df['TSH'].quantile(0.75)-(IQR*3)\n",
    "print('lower_bridge:',lower_bridge)\n",
    "print('upper_bridge:',upper_bridge)\n",
    "print('mean:',df['TSH'].mean())"
   ]
  },
  {
   "cell_type": "code",
   "execution_count": 155,
   "id": "d8eb107e",
   "metadata": {},
   "outputs": [
    {
     "name": "stderr",
     "output_type": "stream",
     "text": [
      "C:\\anacoda python\\lib\\site-packages\\seaborn\\_decorators.py:36: FutureWarning: Pass the following variable as a keyword arg: x. From version 0.12, the only valid positional argument will be `data`, and passing other arguments without an explicit keyword will result in an error or misinterpretation.\n",
      "  warnings.warn(\n"
     ]
    },
    {
     "data": {
      "text/plain": [
       "<AxesSubplot:xlabel='TSH'>"
      ]
     },
     "execution_count": 155,
     "metadata": {},
     "output_type": "execute_result"
    },
    {
     "data": {
      "image/png": "[encoded data removed]",
      "text/plain": [
       "<Figure size 432x288 with 1 Axes>"
      ]
     },
     "metadata": {
      "needs_background": "light"
     },
     "output_type": "display_data"
    }
   ],
   "source": [
    "sns.boxplot(data['TSH'])"
   ]
  },
  {
   "cell_type": "code",
   "execution_count": 156,
   "id": "b48ec025",
   "metadata": {},
   "outputs": [
    {
     "name": "stderr",
     "output_type": "stream",
     "text": [
      "C:\\anacoda python\\lib\\site-packages\\seaborn\\_decorators.py:36: FutureWarning: Pass the following variable as a keyword arg: x. From version 0.12, the only valid positional argument will be `data`, and passing other arguments without an explicit keyword will result in an error or misinterpretation.\n",
      "  warnings.warn(\n"
     ]
    },
    {
     "data": {
      "text/plain": [
       "<AxesSubplot:xlabel='TT4'>"
      ]
     },
     "execution_count": 156,
     "metadata": {},
     "output_type": "execute_result"
    },
    {
     "data": {
      "image/png": "[encoded data removed]",
      "text/plain": [
       "<Figure size 432x288 with 1 Axes>"
      ]
     },
     "metadata": {
      "needs_background": "light"
     },
     "output_type": "display_data"
    }
   ],
   "source": [
    "sns.boxplot(data['TT4'])"
   ]
  },
  {
   "cell_type": "code",
   "execution_count": 157,
   "id": "5c3f0877",
   "metadata": {},
   "outputs": [
    {
     "data": {
      "text/plain": [
       "40.0"
      ]
     },
     "execution_count": 157,
     "metadata": {},
     "output_type": "execute_result"
    }
   ],
   "source": [
    "#lets compute the Interquantile Range  to calculate the boundaries\n",
    "IQR=df['TT4'].quantile(0.75)-df['TT4'].quantile(0.25)\n",
    "IQR\n",
    "\n",
    "\n"
   ]
  },
  {
   "cell_type": "code",
   "execution_count": 158,
   "id": "13aa6f19",
   "metadata": {},
   "outputs": [
    {
     "name": "stdout",
     "output_type": "stream",
     "text": [
      "lower_bridge: 12.0\n",
      "upper_bridge: 172.0\n",
      "mean: 91.77521303632858\n"
     ]
    }
   ],
   "source": [
    "#Gaussion Distribution  We take (IQR*1.5), if we required extreme boundries the we can use (IQR*3)\n",
    "lower_bridge = df['TT4'].quantile(0.25)-(IQR*1.5)\n",
    "upper_bridge = df['TT4'].quantile(0.75)+(IQR*1.5)\n",
    "print('lower_bridge:',lower_bridge)\n",
    "print('upper_bridge:',upper_bridge)\n",
    "print('mean:',df['TT4'].mean())"
   ]
  },
  {
   "cell_type": "code",
   "execution_count": 159,
   "id": "d7a91b91",
   "metadata": {},
   "outputs": [],
   "source": [
    "data=df.copy()\n",
    "data.loc[data['TT4']>=174.0,'TT4']=174.0\n",
    "data.loc[data['TT4']<=38.0,'TT4']=38.0"
   ]
  },
  {
   "cell_type": "code",
   "execution_count": 160,
   "id": "d8365d04",
   "metadata": {},
   "outputs": [
    {
     "name": "stderr",
     "output_type": "stream",
     "text": [
      "C:\\anacoda python\\lib\\site-packages\\seaborn\\_decorators.py:36: FutureWarning: Pass the following variable as a keyword arg: x. From version 0.12, the only valid positional argument will be `data`, and passing other arguments without an explicit keyword will result in an error or misinterpretation.\n",
      "  warnings.warn(\n"
     ]
    },
    {
     "data": {
      "text/plain": [
       "<AxesSubplot:xlabel='TT4'>"
      ]
     },
     "execution_count": 160,
     "metadata": {},
     "output_type": "execute_result"
    },
    {
     "data": {
      "image/png": "[encoded data removed]",
      "text/plain": [
       "<Figure size 432x288 with 1 Axes>"
      ]
     },
     "metadata": {
      "needs_background": "light"
     },
     "output_type": "display_data"
    }
   ],
   "source": [
    "sns.boxplot(data['TT4'])"
   ]
  },
  {
   "cell_type": "code",
   "execution_count": 161,
   "id": "c74786a5",
   "metadata": {},
   "outputs": [
    {
     "name": "stderr",
     "output_type": "stream",
     "text": [
      "C:\\anacoda python\\lib\\site-packages\\seaborn\\_decorators.py:36: FutureWarning: Pass the following variable as a keyword arg: x. From version 0.12, the only valid positional argument will be `data`, and passing other arguments without an explicit keyword will result in an error or misinterpretation.\n",
      "  warnings.warn(\n"
     ]
    },
    {
     "data": {
      "text/plain": [
       "40.0"
      ]
     },
     "execution_count": 161,
     "metadata": {},
     "output_type": "execute_result"
    },
    {
     "data": {
      "image/png": "[encoded data removed]",
      "text/plain": [
       "<Figure size 432x288 with 1 Axes>"
      ]
     },
     "metadata": {
      "needs_background": "light"
     },
     "output_type": "display_data"
    }
   ],
   "source": [
    "sns.boxplot(data['T4U'])\n",
    "#lets compute the Interquantile Range  to calculate the boundaries\n",
    "IQR=df['T4U'].quantile(0.75)-df['T4U'].quantile(0.25)\n",
    "IQR\n",
    "\n"
   ]
  },
  {
   "cell_type": "code",
   "execution_count": 162,
   "id": "be7a37d2",
   "metadata": {},
   "outputs": [
    {
     "name": "stdout",
     "output_type": "stream",
     "text": [
      "lower_bridge: 12.0\n",
      "upper_bridge: 172.0\n",
      "mean: 91.77521303632858\n"
     ]
    }
   ],
   "source": [
    "#Gaussion Distribution  We take (IQR*1.5), if we required extreme boundries the we can use (IQR*3)\n",
    "lower_bridge = df['T4U'].quantile(0.25)-(IQR*1.5)\n",
    "upper_bridge = df['T4U'].quantile(0.75)+(IQR*1.5)\n",
    "print('lower_bridge:',lower_bridge)\n",
    "print('upper_bridge:',upper_bridge)\n",
    "print('mean:',df['T4U'].mean())"
   ]
  },
  {
   "cell_type": "code",
   "execution_count": 163,
   "id": "a879956d",
   "metadata": {},
   "outputs": [],
   "source": [
    "data=df.copy()\n",
    "data.loc[data['T4U']>=174.0,'T4U']=174.0\n",
    "data.loc[data['T4U']<=38.0,'T4U']=38.0"
   ]
  },
  {
   "cell_type": "code",
   "execution_count": 164,
   "id": "24fd0008",
   "metadata": {},
   "outputs": [
    {
     "name": "stderr",
     "output_type": "stream",
     "text": [
      "C:\\anacoda python\\lib\\site-packages\\seaborn\\_decorators.py:36: FutureWarning: Pass the following variable as a keyword arg: x. From version 0.12, the only valid positional argument will be `data`, and passing other arguments without an explicit keyword will result in an error or misinterpretation.\n",
      "  warnings.warn(\n"
     ]
    },
    {
     "data": {
      "text/plain": [
       "<AxesSubplot:xlabel='T4U'>"
      ]
     },
     "execution_count": 164,
     "metadata": {},
     "output_type": "execute_result"
    },
    {
     "data": {
      "image/png": "[encoded data removed]",
      "text/plain": [
       "<Figure size 432x288 with 1 Axes>"
      ]
     },
     "metadata": {
      "needs_background": "light"
     },
     "output_type": "display_data"
    }
   ],
   "source": [
    "sns.boxplot(data['T4U'])"
   ]
  },
  {
   "cell_type": "code",
   "execution_count": null,
   "id": "4f55f2f4",
   "metadata": {},
   "outputs": [],
   "source": []
  },
  {
   "cell_type": "code",
   "execution_count": 165,
   "id": "8c406938",
   "metadata": {},
   "outputs": [
    {
     "name": "stderr",
     "output_type": "stream",
     "text": [
      "C:\\anacoda python\\lib\\site-packages\\sklearn\\base.py:493: FutureWarning: The feature names should match those that were passed during fit. Starting version 1.2, an error will be raised.\n",
      "Feature names unseen at fit time:\n",
      "- TT4\n",
      "Feature names seen at fit time, yet now missing:\n",
      "- TSH\n",
      "\n",
      "  warnings.warn(message, FutureWarning)\n",
      "C:\\anacoda python\\lib\\site-packages\\sklearn\\base.py:493: FutureWarning: The feature names should match those that were passed during fit. Starting version 1.2, an error will be raised.\n",
      "Feature names unseen at fit time:\n",
      "- FTI\n",
      "Feature names seen at fit time, yet now missing:\n",
      "- TSH\n",
      "\n",
      "  warnings.warn(message, FutureWarning)\n",
      "C:\\anacoda python\\lib\\site-packages\\sklearn\\base.py:493: FutureWarning: The feature names should match those that were passed during fit. Starting version 1.2, an error will be raised.\n",
      "Feature names unseen at fit time:\n",
      "- T4U\n",
      "Feature names seen at fit time, yet now missing:\n",
      "- TSH\n",
      "\n",
      "  warnings.warn(message, FutureWarning)\n",
      "C:\\anacoda python\\lib\\site-packages\\sklearn\\base.py:493: FutureWarning: The feature names should match those that were passed during fit. Starting version 1.2, an error will be raised.\n",
      "Feature names unseen at fit time:\n",
      "- binaryClass\n",
      "Feature names seen at fit time, yet now missing:\n",
      "- TSH\n",
      "\n",
      "  warnings.warn(message, FutureWarning)\n"
     ]
    }
   ],
   "source": [
    "# from sklearn.preprocessing import StandardScaler\n",
    " \n",
    "# scaler = StandardScaler()\n",
    "# scaler.fit_transform(df[['TSH','TT4','FTI','T4U']])\n",
    "\n",
    "from sklearn.preprocessing import MinMaxScaler\n",
    " \n",
    "scaler_TSH = MinMaxScaler()\n",
    "scaler_TSH.fit(data[['TSH']])\n",
    "data['scale_TSH'] = scaler_TSH.transform(data[['TSH']])\n",
    "\n",
    "scaler_TT4 = MinMaxScaler()\n",
    "scaler_TT4.fit([data['TT4']])\n",
    "data['scale_TT4'] = scaler_TSH.transform(data[['TT4']])\n",
    "\n",
    "scaler_FTI = MinMaxScaler()\n",
    "scaler_FTI.fit(data[['FTI']])\n",
    "data['scale_FTI'] = scaler_TSH.transform(data[['FTI']])\n",
    "\n",
    "scaler_T4U = MinMaxScaler()\n",
    "scaler_T4U.fit(data[['T4U']])\n",
    "data['scale_T4U'] = scaler_TSH.transform(data[['T4U']])\n",
    "\n",
    "\n",
    "scaler_binaryClass = MinMaxScaler()\n",
    "scaler_binaryClass.fit(data[['binaryClass']])\n",
    "data['scale_binaryClass'] = scaler_TSH.transform(data[['binaryClass']])\n",
    "\n",
    "\n",
    "\n",
    "\n"
   ]
  },
  {
   "cell_type": "code",
   "execution_count": 166,
   "id": "4b211ea3",
   "metadata": {},
   "outputs": [
    {
     "data": {
      "text/html": [
       "<div>\n",
       "<style scoped>\n",
       "    .dataframe tbody tr th:only-of-type {\n",
       "        vertical-align: middle;\n",
       "    }\n",
       "\n",
       "    .dataframe tbody tr th {\n",
       "        vertical-align: top;\n",
       "    }\n",
       "\n",
       "    .dataframe thead th {\n",
       "        text-align: right;\n",
       "    }\n",
       "</style>\n",
       "<table border=\"1\" class=\"dataframe\">\n",
       "  <thead>\n",
       "    <tr style=\"text-align: right;\">\n",
       "      <th></th>\n",
       "      <th>age</th>\n",
       "      <th>sex</th>\n",
       "      <th>on thyroxine</th>\n",
       "      <th>query on thyroxine</th>\n",
       "      <th>on antithyroid medication</th>\n",
       "      <th>sick</th>\n",
       "      <th>pregnant</th>\n",
       "      <th>thyroid surgery</th>\n",
       "      <th>I131 treatment</th>\n",
       "      <th>query hypothyroid</th>\n",
       "      <th>...</th>\n",
       "      <th>T4U</th>\n",
       "      <th>FTI measured</th>\n",
       "      <th>FTI</th>\n",
       "      <th>referral source</th>\n",
       "      <th>binaryClass</th>\n",
       "      <th>scale_TSH</th>\n",
       "      <th>scale_TT4</th>\n",
       "      <th>scale_FTI</th>\n",
       "      <th>scale_T4U</th>\n",
       "      <th>scale_binaryClass</th>\n",
       "    </tr>\n",
       "  </thead>\n",
       "  <tbody>\n",
       "    <tr>\n",
       "      <th>1181</th>\n",
       "      <td>79.0</td>\n",
       "      <td>0</td>\n",
       "      <td>0</td>\n",
       "      <td>0</td>\n",
       "      <td>0</td>\n",
       "      <td>0</td>\n",
       "      <td>0</td>\n",
       "      <td>0</td>\n",
       "      <td>0</td>\n",
       "      <td>0</td>\n",
       "      <td>...</td>\n",
       "      <td>144.0</td>\n",
       "      <td>1</td>\n",
       "      <td>111.0</td>\n",
       "      <td>4</td>\n",
       "      <td>1</td>\n",
       "      <td>0.012821</td>\n",
       "      <td>0.271691</td>\n",
       "      <td>0.209427</td>\n",
       "      <td>0.271691</td>\n",
       "      <td>0.001877</td>\n",
       "    </tr>\n",
       "    <tr>\n",
       "      <th>3535</th>\n",
       "      <td>32.0</td>\n",
       "      <td>1</td>\n",
       "      <td>0</td>\n",
       "      <td>0</td>\n",
       "      <td>0</td>\n",
       "      <td>0</td>\n",
       "      <td>0</td>\n",
       "      <td>0</td>\n",
       "      <td>0</td>\n",
       "      <td>0</td>\n",
       "      <td>...</td>\n",
       "      <td>38.0</td>\n",
       "      <td>1</td>\n",
       "      <td>3.0</td>\n",
       "      <td>4</td>\n",
       "      <td>1</td>\n",
       "      <td>0.205653</td>\n",
       "      <td>0.005651</td>\n",
       "      <td>0.005651</td>\n",
       "      <td>0.071689</td>\n",
       "      <td>0.001877</td>\n",
       "    </tr>\n",
       "    <tr>\n",
       "      <th>1244</th>\n",
       "      <td>55.0</td>\n",
       "      <td>1</td>\n",
       "      <td>0</td>\n",
       "      <td>0</td>\n",
       "      <td>0</td>\n",
       "      <td>0</td>\n",
       "      <td>0</td>\n",
       "      <td>0</td>\n",
       "      <td>0</td>\n",
       "      <td>0</td>\n",
       "      <td>...</td>\n",
       "      <td>38.0</td>\n",
       "      <td>1</td>\n",
       "      <td>13.0</td>\n",
       "      <td>4</td>\n",
       "      <td>1</td>\n",
       "      <td>0.113199</td>\n",
       "      <td>0.026406</td>\n",
       "      <td>0.024519</td>\n",
       "      <td>0.071689</td>\n",
       "      <td>0.001877</td>\n",
       "    </tr>\n",
       "    <tr>\n",
       "      <th>800</th>\n",
       "      <td>65.0</td>\n",
       "      <td>0</td>\n",
       "      <td>0</td>\n",
       "      <td>0</td>\n",
       "      <td>0</td>\n",
       "      <td>0</td>\n",
       "      <td>0</td>\n",
       "      <td>0</td>\n",
       "      <td>0</td>\n",
       "      <td>0</td>\n",
       "      <td>...</td>\n",
       "      <td>38.0</td>\n",
       "      <td>1</td>\n",
       "      <td>14.0</td>\n",
       "      <td>3</td>\n",
       "      <td>1</td>\n",
       "      <td>0.103765</td>\n",
       "      <td>0.028293</td>\n",
       "      <td>0.026406</td>\n",
       "      <td>0.071689</td>\n",
       "      <td>0.001877</td>\n",
       "    </tr>\n",
       "    <tr>\n",
       "      <th>2255</th>\n",
       "      <td>52.0</td>\n",
       "      <td>0</td>\n",
       "      <td>0</td>\n",
       "      <td>0</td>\n",
       "      <td>0</td>\n",
       "      <td>0</td>\n",
       "      <td>0</td>\n",
       "      <td>0</td>\n",
       "      <td>0</td>\n",
       "      <td>0</td>\n",
       "      <td>...</td>\n",
       "      <td>109.0</td>\n",
       "      <td>1</td>\n",
       "      <td>102.0</td>\n",
       "      <td>4</td>\n",
       "      <td>1</td>\n",
       "      <td>0.022632</td>\n",
       "      <td>0.205653</td>\n",
       "      <td>0.192445</td>\n",
       "      <td>0.205653</td>\n",
       "      <td>0.001877</td>\n",
       "    </tr>\n",
       "  </tbody>\n",
       "</table>\n",
       "<p>5 rows × 33 columns</p>\n",
       "</div>"
      ],
      "text/plain": [
       "       age  sex  on thyroxine  query on thyroxine  on antithyroid medication  \\\n",
       "1181  79.0    0             0                   0                          0   \n",
       "3535  32.0    1             0                   0                          0   \n",
       "1244  55.0    1             0                   0                          0   \n",
       "800   65.0    0             0                   0                          0   \n",
       "2255  52.0    0             0                   0                          0   \n",
       "\n",
       "      sick  pregnant  thyroid surgery  I131 treatment  query hypothyroid  ...  \\\n",
       "1181     0         0                0               0                  0  ...   \n",
       "3535     0         0                0               0                  0  ...   \n",
       "1244     0         0                0               0                  0  ...   \n",
       "800      0         0                0               0                  0  ...   \n",
       "2255     0         0                0               0                  0  ...   \n",
       "\n",
       "        T4U  FTI measured    FTI  referral source  binaryClass  scale_TSH  \\\n",
       "1181  144.0             1  111.0                4            1   0.012821   \n",
       "3535   38.0             1    3.0                4            1   0.205653   \n",
       "1244   38.0             1   13.0                4            1   0.113199   \n",
       "800    38.0             1   14.0                3            1   0.103765   \n",
       "2255  109.0             1  102.0                4            1   0.022632   \n",
       "\n",
       "      scale_TT4  scale_FTI  scale_T4U  scale_binaryClass  \n",
       "1181   0.271691   0.209427   0.271691           0.001877  \n",
       "3535   0.005651   0.005651   0.071689           0.001877  \n",
       "1244   0.026406   0.024519   0.071689           0.001877  \n",
       "800    0.028293   0.026406   0.071689           0.001877  \n",
       "2255   0.205653   0.192445   0.205653           0.001877  \n",
       "\n",
       "[5 rows x 33 columns]"
      ]
     },
     "execution_count": 166,
     "metadata": {},
     "output_type": "execute_result"
    }
   ],
   "source": [
    "data.head()"
   ]
  },
  {
   "cell_type": "code",
   "execution_count": 167,
   "id": "576d0eb7",
   "metadata": {},
   "outputs": [],
   "source": [
    "X= data[['scale_TSH','scale_TT4','scale_FTI','scale_T4U']]\n",
    "y=data['binaryClass']"
   ]
  },
  {
   "cell_type": "code",
   "execution_count": 168,
   "id": "685781b7",
   "metadata": {},
   "outputs": [],
   "source": [
    "from sklearn.model_selection import train_test_split\n",
    "X_train ,X_test ,y_train ,y_test = train_test_split(X,y,test_size =0.3 ,random_state = 42,stratify=y)"
   ]
  },
  {
   "cell_type": "code",
   "execution_count": 169,
   "id": "9226409a",
   "metadata": {},
   "outputs": [
    {
     "data": {
      "text/plain": [
       "array([0.63507547, 0.22757484, 0.21730663, 0.23879392])"
      ]
     },
     "execution_count": 169,
     "metadata": {},
     "output_type": "execute_result"
    }
   ],
   "source": [
    "from sklearn.feature_selection import mutual_info_classif\n",
    "mutual_info = mutual_info_classif(X_train,y_train)\n",
    "mutual_info"
   ]
  },
  {
   "cell_type": "code",
   "execution_count": 170,
   "id": "d316dc66",
   "metadata": {},
   "outputs": [],
   "source": [
    "mutual_info_series = pd.Series(mutual_info)\n",
    "mutual_info_series.index = X_train.columns"
   ]
  },
  {
   "cell_type": "code",
   "execution_count": 171,
   "id": "cc323884",
   "metadata": {},
   "outputs": [
    {
     "data": {
      "text/plain": [
       "scale_TSH    0.635075\n",
       "scale_TT4    0.227575\n",
       "scale_FTI    0.217307\n",
       "scale_T4U    0.238794\n",
       "dtype: float64"
      ]
     },
     "execution_count": 171,
     "metadata": {},
     "output_type": "execute_result"
    }
   ],
   "source": [
    "mutual_info_series"
   ]
  },
  {
   "cell_type": "code",
   "execution_count": 172,
   "id": "43ffba45",
   "metadata": {},
   "outputs": [
    {
     "data": {
      "text/plain": [
       "scale_FTI    0.217307\n",
       "scale_TT4    0.227575\n",
       "scale_T4U    0.238794\n",
       "scale_TSH    0.635075\n",
       "dtype: float64"
      ]
     },
     "execution_count": 172,
     "metadata": {},
     "output_type": "execute_result"
    }
   ],
   "source": [
    "mutual_info_series.sort_values(ascending=True)"
   ]
  },
  {
   "cell_type": "code",
   "execution_count": 173,
   "id": "4a4364c5",
   "metadata": {},
   "outputs": [
    {
     "data": {
      "text/plain": [
       "<AxesSubplot:>"
      ]
     },
     "execution_count": 173,
     "metadata": {},
     "output_type": "execute_result"
    },
    {
     "data": {
      "image/png": "[encoded data removed]",
      "text/plain": [
       "<Figure size 432x288 with 1 Axes>"
      ]
     },
     "metadata": {
      "needs_background": "light"
     },
     "output_type": "display_data"
    }
   ],
   "source": [
    "mutual_info_series.sort_values(ascending=True).plot.bar()"
   ]
  },
  {
   "cell_type": "code",
   "execution_count": 174,
   "id": "baf1443e",
   "metadata": {},
   "outputs": [],
   "source": [
    "# from sklearn.model_selection import train_test_split\n",
    "# train, test = train_test_split(data, test_size=0.2)"
   ]
  },
  {
   "cell_type": "code",
   "execution_count": 175,
   "id": "c4b83595",
   "metadata": {},
   "outputs": [],
   "source": [
    "# train.shape\n",
    "# test.shape"
   ]
  },
  {
   "cell_type": "code",
   "execution_count": 176,
   "id": "2a3f6ba1",
   "metadata": {},
   "outputs": [],
   "source": [
    "# X= test[['scale_TSH','scale_TT4','scale_FTI','scale_T4U']]\n",
    "# y=test['binaryClass']"
   ]
  },
  {
   "cell_type": "code",
   "execution_count": 177,
   "id": "2120cec2",
   "metadata": {},
   "outputs": [],
   "source": [
    "X= data[['TSH','TT4','FTI','T4U']]\n",
    "y=data['binaryClass']"
   ]
  },
  {
   "cell_type": "code",
   "execution_count": 178,
   "id": "abee6c77",
   "metadata": {},
   "outputs": [],
   "source": [
    "\n",
    "from sklearn.model_selection import train_test_split\n",
    "X_train ,X_test ,y_train ,y_test = train_test_split(X,y,test_size =0.3 ,random_state = 1,stratify=y)"
   ]
  },
  {
   "cell_type": "code",
   "execution_count": 179,
   "id": "bc24aeb8",
   "metadata": {},
   "outputs": [
    {
     "name": "stdout",
     "output_type": "stream",
     "text": [
      "X_train :- (4873, 4)\n",
      "X_test :- (2089, 4)\n",
      "y_train :- (4873,)\n",
      "y_test :- (2089,)\n"
     ]
    }
   ],
   "source": [
    "print(\"X_train :-\",X_train.shape)\n",
    "print(\"X_test :-\",X_test.shape)\n",
    "print(\"y_train :-\",y_train.shape)\n",
    "print(\"y_test :-\",y_test.shape)"
   ]
  },
  {
   "cell_type": "code",
   "execution_count": 180,
   "id": "2c6ffd7a",
   "metadata": {},
   "outputs": [],
   "source": [
    "#     #create a model\n",
    "    \n",
    "#     from sklearn.naive_bayes import GaussianNB\n",
    "#     NB_Model = GaussianNB()\n",
    "\n",
    "#     #Train/fit() the model\n",
    "#     NB_Model.fit(X_train,y_train)\n",
    "\n",
    "#     # find y_ prediction\n",
    "#     y_pred = NB_Model.predict(X_test)\n"
   ]
  },
  {
   "cell_type": "code",
   "execution_count": 181,
   "id": "c320bcc2",
   "metadata": {},
   "outputs": [],
   "source": [
    "#     #calculating the accuracy\n",
    "#     from sklearn import metrics\n",
    "\n",
    "#     acc=metrics.accuracy_score(y_test,y_pred)\n",
    "#     print(\"Accuracy\",acc*100)"
   ]
  },
  {
   "cell_type": "code",
   "execution_count": 182,
   "id": "36a38993",
   "metadata": {},
   "outputs": [],
   "source": [
    "# # find CM\n",
    "# from sklearn.metrics import confusion_matrix\n",
    "# cm=confusion_matrix(y_test,y_pred)\n",
    "# plt.figure(figsize=(10,6))\n",
    "# sns.heatmap(cm,annot=True)\n",
    "# plt.xlabel(\"Predicted\")\n",
    "# plt.ylabel(\"Actual\")\n",
    "\n",
    "# # find Precision\n",
    "# from sklearn.metrics import precision_score\n",
    "# print(\"Precision_score :-\", precision_score(y_test,y_pred, average='weighted'))\n",
    "\n",
    "# # find Precision\n",
    "# from sklearn.metrics import recall_score\n",
    "# print(\"recall_score :-\",recall_score(y_test, y_pred ,average='weighted'))\n",
    "\n",
    "# # find f-1 score\n",
    "# from sklearn.metrics import f1_score\n",
    "# print(\"f1_score :-\",f1_score(y_test,y_pred,average='weighted'))\n",
    "\n",
    "# print()\n",
    "# from sklearn.metrics import classification_report\n",
    "# target_names = ['0','1']\n",
    "\n",
    "# from sklearn.metrics import confusion_matrix\n",
    "# cm=confusion_matrix(y_test,y_pred)\n",
    "# print(\"True positive = \",cm[0][0])\n",
    "# print(\"False positive = \",cm[0][1])\n",
    "# print(\"False negative = \",cm[1][0])\n",
    "# print(\"True negative = \",cm[1][1])\n"
   ]
  },
  {
   "cell_type": "code",
   "execution_count": 183,
   "id": "e79de7bb",
   "metadata": {},
   "outputs": [],
   "source": [
    "# # k = 3,5,9,11,15,17,19,21,23,25,27,29\n",
    "\n",
    "# accuracy =[]\n",
    "# error_rate = []\n",
    "# for k in range(1,30,2):\n",
    "\n",
    "# #create a model\n",
    "#     from sklearn.neighbors import KNeighborsClassifier\n",
    "#     KNN_Model = KNeighborsClassifier(n_neighbors=k)\n",
    "\n",
    "#     #Train/fit() the model\n",
    "#     KNN_Model.fit(X_train,y_train)\n",
    "\n",
    "#     # find y_ prediction\n",
    "#     y_pred = KNN_Model.predict(X_test)\n",
    "\n",
    "\n",
    "#     #calculating the accuracy\n",
    "#     from sklearn import metrics\n",
    "\n",
    "#     acc=metrics.accuracy_score(y_test,y_pred)\n",
    "\n",
    "#     accuracy.append(acc)\n",
    "#     error_rate.append(1-acc)\n",
    "\n",
    "# print(\"Task Completed\")\n"
   ]
  },
  {
   "cell_type": "code",
   "execution_count": 184,
   "id": "08ba6d4d",
   "metadata": {},
   "outputs": [],
   "source": [
    "# #Graph betn k and accuracy\n",
    "# plt.plot(range(1,30,2),accuracy,\"*-\")\n",
    "# plt.xlabel('k-val')\n",
    "# plt.ylabel('Accuracy')\n"
   ]
  },
  {
   "cell_type": "code",
   "execution_count": null,
   "id": "a8b4a1ec",
   "metadata": {},
   "outputs": [],
   "source": []
  },
  {
   "cell_type": "code",
   "execution_count": null,
   "id": "332eab1a",
   "metadata": {},
   "outputs": [],
   "source": []
  },
  {
   "cell_type": "code",
   "execution_count": 185,
   "id": "eb845b76",
   "metadata": {},
   "outputs": [],
   "source": [
    "# # find CM\n",
    "# from sklearn.metrics import confusion_matrix\n",
    "# cm=confusion_matrix(y_test,y_pred)\n",
    "# plt.figure(figsize=(10,6))\n",
    "# sns.heatmap(cm,annot=True)\n",
    "# plt.xlabel(\"Predicted\")\n",
    "# plt.ylabel(\"Actual\")\n",
    "\n",
    "# # find Precision\n",
    "# from sklearn.metrics import precision_score\n",
    "# print(\"Precision_score :-\", precision_score(y_test,y_pred, average='weighted'))\n",
    "\n",
    "# # find Precision\n",
    "# from sklearn.metrics import recall_score\n",
    "# print(\"recall_score :-\",recall_score(y_test, y_pred ,average='weighted'))\n",
    "\n",
    "# # find f-1 score\n",
    "# from sklearn.metrics import f1_score\n",
    "# print(\"f1_score :-\",f1_score(y_test,y_pred,average='weighted'))\n",
    "\n",
    "# print()\n",
    "# from sklearn.metrics import classification_report\n",
    "# target_names = ['0','1']\n",
    "\n",
    "# from sklearn.metrics import confusion_matrix\n",
    "# cm=confusion_matrix(y_test,y_pred)\n",
    "# print(\"True positive = \",cm[0][0])\n",
    "# print(\"False positive = \",cm[0][1])\n",
    "# print(\"False negative = \",cm[1][0])\n",
    "# print(\"True negative = \",cm[1][1])\n"
   ]
  },
  {
   "cell_type": "code",
   "execution_count": 186,
   "id": "2bb2f4fb",
   "metadata": {},
   "outputs": [],
   "source": [
    "# from sklearn.svm import SVC\n",
    "# # Training a SVM classifier using SVC class\n",
    "# svm = SVC(kernel= 'poly', random_state=42, C=0.1)\n",
    "# svm.fit(X_train, y_train)\n",
    "# from sklearn import metrics\n",
    "# acc = metrics.accuracy_score(y_test,y_pred)\n",
    "# y_pred = svm.predict(X_test)\n",
    "# acc = metrics.accuracy_score(y_test,y_pred)\n",
    "# print(\"Accuracy for 80-20 spliting and k=1 :-\",acc*100)"
   ]
  },
  {
   "cell_type": "code",
   "execution_count": 187,
   "id": "2e3be31d",
   "metadata": {},
   "outputs": [],
   "source": [
    "from sklearn.ensemble import RandomForestClassifier\n",
    "\n",
    "#Create a RandomForestClassifier\n",
    "clf=RandomForestClassifier(n_estimators=100)\n",
    "\n",
    "#Train the model using the training sets y_pred=clf.predict(X_test)\n",
    "clf.fit(X_train,y_train)\n",
    "\n",
    "y_pred=clf.predict(X_test)\n",
    "# if(y_pred[3]==1):\n",
    "#       print(\"positive\")\n",
    "# else:\n",
    "#     print(\"negative\")\n",
    "                \n"
   ]
  },
  {
   "cell_type": "code",
   "execution_count": 188,
   "id": "ae3058b2",
   "metadata": {},
   "outputs": [
    {
     "data": {
      "text/html": [
       "<div>\n",
       "<style scoped>\n",
       "    .dataframe tbody tr th:only-of-type {\n",
       "        vertical-align: middle;\n",
       "    }\n",
       "\n",
       "    .dataframe tbody tr th {\n",
       "        vertical-align: top;\n",
       "    }\n",
       "\n",
       "    .dataframe thead th {\n",
       "        text-align: right;\n",
       "    }\n",
       "</style>\n",
       "<table border=\"1\" class=\"dataframe\">\n",
       "  <thead>\n",
       "    <tr style=\"text-align: right;\">\n",
       "      <th></th>\n",
       "      <th>age</th>\n",
       "      <th>sex</th>\n",
       "      <th>on thyroxine</th>\n",
       "      <th>query on thyroxine</th>\n",
       "      <th>on antithyroid medication</th>\n",
       "      <th>sick</th>\n",
       "      <th>pregnant</th>\n",
       "      <th>thyroid surgery</th>\n",
       "      <th>I131 treatment</th>\n",
       "      <th>query hypothyroid</th>\n",
       "      <th>...</th>\n",
       "      <th>T4U</th>\n",
       "      <th>FTI measured</th>\n",
       "      <th>FTI</th>\n",
       "      <th>referral source</th>\n",
       "      <th>binaryClass</th>\n",
       "      <th>scale_TSH</th>\n",
       "      <th>scale_TT4</th>\n",
       "      <th>scale_FTI</th>\n",
       "      <th>scale_T4U</th>\n",
       "      <th>scale_binaryClass</th>\n",
       "    </tr>\n",
       "  </thead>\n",
       "  <tbody>\n",
       "    <tr>\n",
       "      <th>1181</th>\n",
       "      <td>79.0</td>\n",
       "      <td>0</td>\n",
       "      <td>0</td>\n",
       "      <td>0</td>\n",
       "      <td>0</td>\n",
       "      <td>0</td>\n",
       "      <td>0</td>\n",
       "      <td>0</td>\n",
       "      <td>0</td>\n",
       "      <td>0</td>\n",
       "      <td>...</td>\n",
       "      <td>144.0</td>\n",
       "      <td>1</td>\n",
       "      <td>111.0</td>\n",
       "      <td>4</td>\n",
       "      <td>1</td>\n",
       "      <td>0.012821</td>\n",
       "      <td>0.271691</td>\n",
       "      <td>0.209427</td>\n",
       "      <td>0.271691</td>\n",
       "      <td>0.001877</td>\n",
       "    </tr>\n",
       "    <tr>\n",
       "      <th>3535</th>\n",
       "      <td>32.0</td>\n",
       "      <td>1</td>\n",
       "      <td>0</td>\n",
       "      <td>0</td>\n",
       "      <td>0</td>\n",
       "      <td>0</td>\n",
       "      <td>0</td>\n",
       "      <td>0</td>\n",
       "      <td>0</td>\n",
       "      <td>0</td>\n",
       "      <td>...</td>\n",
       "      <td>38.0</td>\n",
       "      <td>1</td>\n",
       "      <td>3.0</td>\n",
       "      <td>4</td>\n",
       "      <td>1</td>\n",
       "      <td>0.205653</td>\n",
       "      <td>0.005651</td>\n",
       "      <td>0.005651</td>\n",
       "      <td>0.071689</td>\n",
       "      <td>0.001877</td>\n",
       "    </tr>\n",
       "    <tr>\n",
       "      <th>1244</th>\n",
       "      <td>55.0</td>\n",
       "      <td>1</td>\n",
       "      <td>0</td>\n",
       "      <td>0</td>\n",
       "      <td>0</td>\n",
       "      <td>0</td>\n",
       "      <td>0</td>\n",
       "      <td>0</td>\n",
       "      <td>0</td>\n",
       "      <td>0</td>\n",
       "      <td>...</td>\n",
       "      <td>38.0</td>\n",
       "      <td>1</td>\n",
       "      <td>13.0</td>\n",
       "      <td>4</td>\n",
       "      <td>1</td>\n",
       "      <td>0.113199</td>\n",
       "      <td>0.026406</td>\n",
       "      <td>0.024519</td>\n",
       "      <td>0.071689</td>\n",
       "      <td>0.001877</td>\n",
       "    </tr>\n",
       "    <tr>\n",
       "      <th>800</th>\n",
       "      <td>65.0</td>\n",
       "      <td>0</td>\n",
       "      <td>0</td>\n",
       "      <td>0</td>\n",
       "      <td>0</td>\n",
       "      <td>0</td>\n",
       "      <td>0</td>\n",
       "      <td>0</td>\n",
       "      <td>0</td>\n",
       "      <td>0</td>\n",
       "      <td>...</td>\n",
       "      <td>38.0</td>\n",
       "      <td>1</td>\n",
       "      <td>14.0</td>\n",
       "      <td>3</td>\n",
       "      <td>1</td>\n",
       "      <td>0.103765</td>\n",
       "      <td>0.028293</td>\n",
       "      <td>0.026406</td>\n",
       "      <td>0.071689</td>\n",
       "      <td>0.001877</td>\n",
       "    </tr>\n",
       "    <tr>\n",
       "      <th>2255</th>\n",
       "      <td>52.0</td>\n",
       "      <td>0</td>\n",
       "      <td>0</td>\n",
       "      <td>0</td>\n",
       "      <td>0</td>\n",
       "      <td>0</td>\n",
       "      <td>0</td>\n",
       "      <td>0</td>\n",
       "      <td>0</td>\n",
       "      <td>0</td>\n",
       "      <td>...</td>\n",
       "      <td>109.0</td>\n",
       "      <td>1</td>\n",
       "      <td>102.0</td>\n",
       "      <td>4</td>\n",
       "      <td>1</td>\n",
       "      <td>0.022632</td>\n",
       "      <td>0.205653</td>\n",
       "      <td>0.192445</td>\n",
       "      <td>0.205653</td>\n",
       "      <td>0.001877</td>\n",
       "    </tr>\n",
       "  </tbody>\n",
       "</table>\n",
       "<p>5 rows × 33 columns</p>\n",
       "</div>"
      ],
      "text/plain": [
       "       age  sex  on thyroxine  query on thyroxine  on antithyroid medication  \\\n",
       "1181  79.0    0             0                   0                          0   \n",
       "3535  32.0    1             0                   0                          0   \n",
       "1244  55.0    1             0                   0                          0   \n",
       "800   65.0    0             0                   0                          0   \n",
       "2255  52.0    0             0                   0                          0   \n",
       "\n",
       "      sick  pregnant  thyroid surgery  I131 treatment  query hypothyroid  ...  \\\n",
       "1181     0         0                0               0                  0  ...   \n",
       "3535     0         0                0               0                  0  ...   \n",
       "1244     0         0                0               0                  0  ...   \n",
       "800      0         0                0               0                  0  ...   \n",
       "2255     0         0                0               0                  0  ...   \n",
       "\n",
       "        T4U  FTI measured    FTI  referral source  binaryClass  scale_TSH  \\\n",
       "1181  144.0             1  111.0                4            1   0.012821   \n",
       "3535   38.0             1    3.0                4            1   0.205653   \n",
       "1244   38.0             1   13.0                4            1   0.113199   \n",
       "800    38.0             1   14.0                3            1   0.103765   \n",
       "2255  109.0             1  102.0                4            1   0.022632   \n",
       "\n",
       "      scale_TT4  scale_FTI  scale_T4U  scale_binaryClass  \n",
       "1181   0.271691   0.209427   0.271691           0.001877  \n",
       "3535   0.005651   0.005651   0.071689           0.001877  \n",
       "1244   0.026406   0.024519   0.071689           0.001877  \n",
       "800    0.028293   0.026406   0.071689           0.001877  \n",
       "2255   0.205653   0.192445   0.205653           0.001877  \n",
       "\n",
       "[5 rows x 33 columns]"
      ]
     },
     "execution_count": 188,
     "metadata": {},
     "output_type": "execute_result"
    }
   ],
   "source": [
    "data.head(5)"
   ]
  },
  {
   "cell_type": "code",
   "execution_count": 189,
   "id": "66426e90",
   "metadata": {},
   "outputs": [
    {
     "name": "stdout",
     "output_type": "stream",
     "text": [
      "Accuracy: 0.990426041168023\n"
     ]
    }
   ],
   "source": [
    "#Import scikit-learn metrics module for accuracy calculation\n",
    "from sklearn import metrics\n",
    "# Model Accuracy, how often is the classifier correct?\n",
    "print(\"Accuracy:\",metrics.accuracy_score(y_test, y_pred))"
   ]
  },
  {
   "cell_type": "code",
   "execution_count": 190,
   "id": "9f289042",
   "metadata": {},
   "outputs": [
    {
     "name": "stdout",
     "output_type": "stream",
     "text": [
      "Precision_score :- 0.9906058338221447\n",
      "recall_score :- 0.990426041168023\n",
      "f1_score :- 0.9904251196414641\n",
      "Accuracy: 0.990426041168023\n",
      "\n",
      "True positive =  1024\n",
      "False positive =  20\n",
      "False negative =  0\n",
      "True negative =  1045\n"
     ]
    },
    {
     "data": {
      "image/png": "[encoded data removed]",
      "text/plain": [
       "<Figure size 720x432 with 2 Axes>"
      ]
     },
     "metadata": {
      "needs_background": "light"
     },
     "output_type": "display_data"
    }
   ],
   "source": [
    "# find CM\n",
    "from sklearn.metrics import confusion_matrix\n",
    "cm=confusion_matrix(y_test,y_pred)\n",
    "plt.figure(figsize=(10,6))\n",
    "sns.heatmap(cm,annot=True)\n",
    "plt.xlabel(\"Predicted\")\n",
    "plt.ylabel(\"Actual\")\n",
    "\n",
    "# find Precision\n",
    "from sklearn.metrics import precision_score\n",
    "print(\"Precision_score :-\", precision_score(y_test,y_pred, average='weighted'))\n",
    "\n",
    "# find Precision\n",
    "from sklearn.metrics import recall_score\n",
    "print(\"recall_score :-\",recall_score(y_test, y_pred ,average='weighted'))\n",
    "\n",
    "# find f-1 score\n",
    "from sklearn.metrics import f1_score\n",
    "print(\"f1_score :-\",f1_score(y_test,y_pred,average='weighted'))\n",
    "\n",
    "from sklearn import metrics\n",
    "# Model Accuracy, how often is the classifier correct?\n",
    "print(\"Accuracy:\",metrics.accuracy_score(y_test, y_pred))\n",
    "\n",
    "print()\n",
    "from sklearn.metrics import classification_report\n",
    "target_names = ['0','1']\n",
    "\n",
    "from sklearn.metrics import confusion_matrix\n",
    "cm=confusion_matrix(y_test,y_pred)\n",
    "print(\"True positive = \",cm[0][0])\n",
    "print(\"False positive = \",cm[0][1])\n",
    "print(\"False negative = \",cm[1][0])\n",
    "print(\"True negative = \",cm[1][1])\n",
    "\n"
   ]
  },
  {
   "cell_type": "code",
   "execution_count": 191,
   "id": "2be35116",
   "metadata": {},
   "outputs": [],
   "source": [
    "import pickle\n",
    "pickle.dump(clf, open('Throid.pkl', 'wb'))"
   ]
  },
  {
   "cell_type": "code",
   "execution_count": 192,
   "id": "c4178e70",
   "metadata": {},
   "outputs": [
    {
     "name": "stdout",
     "output_type": "stream",
     "text": [
      "enter tsh:-455\n",
      "enter tsh:-458\n",
      "enter tsh:-52336\n",
      "enter tsh:-5696\n",
      "negative\n"
     ]
    },
    {
     "name": "stderr",
     "output_type": "stream",
     "text": [
      "C:\\anacoda python\\lib\\site-packages\\sklearn\\base.py:450: UserWarning: X does not have valid feature names, but RandomForestClassifier was fitted with feature names\n",
      "  warnings.warn(\n",
      "C:\\anacoda python\\lib\\site-packages\\sklearn\\base.py:450: UserWarning: X does not have valid feature names, but RandomForestClassifier was fitted with feature names\n",
      "  warnings.warn(\n"
     ]
    }
   ],
   "source": [
    "TSH = float(input('enter tsh:-'))\n",
    "TT4 = float(input('enter tsh:-'))\n",
    "FTI = float(input('enter tsh:-'))\n",
    "T4U = float(input('enter tsh:-'))\n",
    "\n",
    "\n",
    "\n",
    "clf.predict([[TSH,TT4,FTI,T4U]])\n",
    "# print(y_pred)\n",
    "if(clf.predict([[TSH,TT4,FTI,T4U]])[0]==1):\n",
    "      print(\"positive\")\n",
    "else:\n",
    "    print(\"negative\")\n",
    "                \n",
    "        \n",
    "                \n",
    "       \n",
    "            \n",
    "\n",
    "  \n",
    "    \n",
    " \n",
    "     \n",
    "\n",
    "\n"
   ]
  },
  {
   "cell_type": "code",
   "execution_count": 193,
   "id": "35efd182",
   "metadata": {},
   "outputs": [],
   "source": [
    "# type(data['scale_TSH'][0])"
   ]
  },
  {
   "cell_type": "code",
   "execution_count": 194,
   "id": "54ee368d",
   "metadata": {},
   "outputs": [],
   "source": [
    "# 7 P\n",
    "# 6 P\n",
    "# 5 N\n",
    "# 2 N\n",
    "# 1 N\n",
    "# 0.5 N\n",
    "# 3 N"
   ]
  },
  {
   "cell_type": "code",
   "execution_count": 195,
   "id": "6e725d5b",
   "metadata": {},
   "outputs": [],
   "source": [
    "# enter tsh3.0\n",
    "# enter tt41.32\n",
    "# enter fti5.0\n",
    "# enter t4u5.12\n",
    "# [0]\n",
    "\n",
    "# enter tsh8.0\n",
    "# enter tt44.2\n",
    "# enter fti41.\n",
    "# enter t4u10.2\n",
    "# negative\n",
    "\n",
    "\n",
    "# enter tsh2.0\n",
    "# enter tt44.5\n",
    "# enter fti4.2\n",
    "# enter t4u20.\n",
    "# negative\n",
    "\n",
    "\n",
    "# enter tsh6.0\n",
    "# enter tt442\n",
    "# enter fti21\n",
    "# enter t4u10.2\n",
    "# negative\n",
    "\n",
    "\n",
    "\n",
    "\n",
    "\n",
    "\n",
    "\n",
    "# import joblib\n",
    "# joblib.dump(clf,'RF_Model.pkl')\n",
    "# print(\"Model Saved\")\n",
    "\n",
    "\n",
    "# age = float(input(\"Enter Age \"))\n",
    "# LR_model.predict([[age]])\n",
    "# if(LR_model.predict([[age]])[0]==1):\n",
    "#     print(\"Will Buy Insurance :\")\n",
    "# else:\n",
    "#     print(\"Will not Buy Insurance\")\n",
    "\n",
    "\n",
    "\n",
    "# y_pred=clf.predict(X_test)\n",
    "# y_pred"
   ]
  },
  {
   "cell_type": "code",
   "execution_count": 196,
   "id": "4bb9a9de",
   "metadata": {},
   "outputs": [],
   "source": [
    "# enter tsh1\n",
    "# enter tt499\n",
    "# enter fti92\n",
    "# enter t4u1.07"
   ]
  },
  {
   "cell_type": "code",
   "execution_count": null,
   "id": "3bc63811",
   "metadata": {},
   "outputs": [],
   "source": []
  },
  {
   "cell_type": "code",
   "execution_count": null,
   "id": "1352150b",
   "metadata": {},
   "outputs": [],
   "source": []
  }
 ],
 "metadata": {
  "kernelspec": {
   "display_name": "Python 3 (ipykernel)",
   "language": "python",
   "name": "python3"
  },
  "language_info": {
   "codemirror_mode": {
    "name": "ipython",
    "version": 3
   },
   "file_extension": ".py",
   "mimetype": "text/x-python",
   "name": "python",
   "nbconvert_exporter": "python",
   "pygments_lexer": "ipython3",
   "version": "3.9.12"
  },
  "vscode": {
   "interpreter": {
    "hash": "99a4f77c7a0efc171b4fa3357e092676f02fef12bf80c1779790d52eb7c7d40e"
   }
  }
 },
 "nbformat": 4,
 "nbformat_minor": 5
}
